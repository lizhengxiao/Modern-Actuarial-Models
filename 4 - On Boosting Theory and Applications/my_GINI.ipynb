{
 "cells": [
  {
   "cell_type": "markdown",
   "metadata": {
    "_cell_guid": "99c2be30-0fd8-4b60-885e-6bfd1b0246f6",
    "_uuid": "7945a7f9b578f6c3ad98d6066e036f918419fa5a"
   },
   "source": [
    "# Gini Coefficient - An Intuitive Explanation\n",
    "\n",
    "I was struggling a bit with the definition of the Scoring Metric. Googling \"Gini Coefficient\" gives you mostly economic explanations. Here is a descriptive explanation with regard to the challenge.\n",
    "\n",
    "First, let's define our predictions and their actual values:"
   ]
  },
  {
   "cell_type": "code",
   "execution_count": 1,
   "metadata": {
    "_cell_guid": "1acaec53-ac2c-4474-a2a2-629d41b161c5",
    "_uuid": "a1edc32cb536f27c798be8fc6cec932b19f409d9",
    "collapsed": true
   },
   "outputs": [],
   "source": [
    "import numpy as np\n",
    "import matplotlib.pyplot as plt\n",
    "import scipy.interpolate\n",
    "import scipy.integrate\n",
    "\n",
    "predictions = [0.9, 0.3, 0.8, 0.75, 0.65, 0.6, 0.78, 0.7, 0.05, 0.4, 0.4, 0.05, 0.5, 0.1, 0.1]\n",
    "actual = [1, 1, 1, 1, 1, 1, 0, 0, 0, 0, 0, 0, 0, 0, 0]"
   ]
  },
  {
   "cell_type": "markdown",
   "metadata": {
    "_cell_guid": "9c76b2b1-7ee3-4092-9fbd-a185aba4c6f1",
    "_uuid": "717d9928be1af4b1303db6183b52140a0f96d102"
   },
   "source": [
    "We use the Python implementation from the [Gini coefficient discussion with code samples](https://www.kaggle.com/c/ClaimPredictionChallenge/discussion/703):"
   ]
  },
  {
   "cell_type": "code",
   "execution_count": 2,
   "metadata": {
    "_cell_guid": "017f3ca4-8b00-4ac8-80fd-dda0c714dd8d",
    "_uuid": "16fd6f021f05aa00705fac1b6d9b14c132e7271a",
    "collapsed": true
   },
   "outputs": [],
   "source": [
    "def gini(actual, pred):\n",
    "    assert (len(actual) == len(pred))\n",
    "    all = np.asarray(np.c_[actual, pred, np.arange(len(actual))], dtype=np.float)\n",
    "    all = all[np.lexsort((all[:, 2], -1 * all[:, 1]))]\n",
    "    totalLosses = all[:, 0].sum()\n",
    "    giniSum = all[:, 0].cumsum().sum() / totalLosses\n",
    "\n",
    "    giniSum -= (len(actual) + 1) / 2.\n",
    "    return giniSum / len(actual)\n",
    "\n",
    "\n",
    "def gini_normalized(actual, pred):\n",
    "    return gini(actual, pred) / gini(actual, actual)"
   ]
  },
  {
   "cell_type": "markdown",
   "metadata": {
    "_cell_guid": "d5d08469-ef0b-425f-9ce2-aee204e944ee",
    "_uuid": "75550b4a620a7da300aa509b3b6752f8290ff17b"
   },
   "source": [
    "We calculate the Gini coefficient for the predictions:"
   ]
  },
  {
   "cell_type": "code",
   "execution_count": 3,
   "metadata": {
    "_cell_guid": "f439a2c7-da20-4595-b151-23b9104a2f0e",
    "_uuid": "35fe46255a39081c4e8165893a51a0d1cc106e94",
    "collapsed": true
   },
   "outputs": [
    {
     "name": "stdout",
     "output_type": "stream",
     "text": [
      "Gini: 0.189, Max. Gini: 0.300, Normalized Gini: 0.630\n"
     ]
    }
   ],
   "source": [
    "gini_predictions = gini(actual, predictions)\n",
    "gini_max = gini(actual, actual)\n",
    "ngini= gini_normalized(actual, predictions)\n",
    "print('Gini: %.3f, Max. Gini: %.3f, Normalized Gini: %.3f' % (gini_predictions, gini_max, ngini))"
   ]
  },
  {
   "cell_type": "markdown",
   "metadata": {
    "_cell_guid": "6ab2c51d-7871-4b88-bc6e-b810d0b44176",
    "_uuid": "3fce33a6cf4491ca1ba457c1610e82be79754ef1"
   },
   "source": [
    "**So, how do we get this Gini of 0.189 and the Normalized Gini of 0.630?**\n",
    "\n",
    "## Economic Explanation\n",
    "\n",
    "The first figure on the \"Gini Coefficient\" Wikipedia article is this one:\n",
    "\n",
    "<img style=\"float:left\" height=\"400\" width=\"400\" src=\"https://upload.wikimedia.org/wikipedia/commons/thumb/5/5b/Economics_Gini_coefficient.svg/500px-Economics_Gini_coefficient.svg.png\"/>\n",
    "<div style=\"clear:both\"/>\n",
    "\n",
    "They go through the population from poorest to richest and plot the running total / cumulative share of income, which gives them the Lorenz Curve. The Gini Coefficient is then defined as the blue area divided by the area of the lower triangle.\n",
    "\n",
    "## Application to our challenge\n",
    "\n",
    "Instead of going through the population from poorest to richest, we go through our predictions from lowest to highest."
   ]
  },
  {
   "cell_type": "code",
   "execution_count": 4,
   "metadata": {
    "_cell_guid": "0573d447-d308-4395-9b4d-6483396dfcff",
    "_uuid": "57c69007da514a299465e05e8925a8525c9f4723",
    "collapsed": true
   },
   "outputs": [
    {
     "name": "stdout",
     "output_type": "stream",
     "text": [
      "Sorted Actual Values [0, 0, 0, 0, 1, 0, 0, 0, 1, 1, 0, 1, 0, 1, 1]\n"
     ]
    }
   ],
   "source": [
    "# Sort the actual values by the predictions\n",
    "data = zip(actual, predictions)\n",
    "sorted_data = sorted(data, key=lambda d: d[1])\n",
    "sorted_actual = [d[0] for d in sorted_data]\n",
    "print('Sorted Actual Values', sorted_actual)\n"
   ]
  },
  {
   "cell_type": "markdown",
   "metadata": {
    "_cell_guid": "3c72f2a1-e695-4375-b3fa-29eac9068bc7",
    "_uuid": "fb5531a044c31e6feb562357e6a31d5f705958c9"
   },
   "source": [
    "Instead of summing up the income, we sum up the actual values of our predictions:"
   ]
  },
  {
   "cell_type": "code",
   "execution_count": 5,
   "metadata": {
    "_cell_guid": "a6f4cbb0-123d-4b8a-a858-b11391e132d2",
    "_uuid": "1dca60a72fda9a101e5daed88aa73947cd35218a",
    "collapsed": true
   },
   "outputs": [
    {
     "data": {
      "image/png": "[encoded data removed]",
      "text/plain": [
       "<matplotlib.figure.Figure at 0x7f9794c83668>"
      ]
     },
     "metadata": {},
     "output_type": "display_data"
    }
   ],
   "source": [
    "# Sum up the actual values\n",
    "cumulative_actual = np.cumsum(sorted_actual)\n",
    "cumulative_index = np.arange(1, len(cumulative_actual)+1)\n",
    "\n",
    "plt.plot(cumulative_index, cumulative_actual)\n",
    "plt.xlabel('Cumulative Number of Predictions')\n",
    "plt.ylabel('Cumulative Actual Values')\n",
    "plt.show()"
   ]
  },
  {
   "cell_type": "markdown",
   "metadata": {
    "_cell_guid": "92be5881-fecc-423b-9744-c854d8ab3274",
    "_uuid": "9ff032a20d9cefef1268ca8658539510c208747e"
   },
   "source": [
    "This corresponds to the Lorenz Curve in the diagram above.\n",
    "\n",
    "We normalize both axes so that they go from 0 to 100% like in the economic figure and display the 45° line for illustrating random guessing:"
   ]
  },
  {
   "cell_type": "code",
   "execution_count": 6,
   "metadata": {
    "_cell_guid": "e3da8bdb-6118-406e-b25d-7b7a06550309",
    "_uuid": "ffdb97781b685bc4634d8e5479af52734ca5287e",
    "collapsed": true
   },
   "outputs": [
    {
     "data": {
      "image/png": "[encoded data removed]",
      "text/plain": [
       "<matplotlib.figure.Figure at 0x7f9764b2b7b8>"
      ]
     },
     "metadata": {},
     "output_type": "display_data"
    }
   ],
   "source": [
    "cumulative_actual_shares = cumulative_actual / sum(actual)\n",
    "cumulative_index_shares = cumulative_index / len(predictions)\n",
    "\n",
    "# Add (0, 0) to the plot\n",
    "x_values = [0] + list(cumulative_index_shares)\n",
    "y_values = [0] + list(cumulative_actual_shares)\n",
    "\n",
    "# Display the 45° line stacked on top of the y values\n",
    "diagonal = [x - y for (x, y) in zip(x_values, y_values)]\n",
    "\n",
    "plt.stackplot(x_values, y_values, diagonal)\n",
    "plt.xlabel('Cumulative Share of Predictions')\n",
    "plt.ylabel('Cumulative Share of Actual Values')\n",
    "plt.show()\n"
   ]
  },
  {
   "cell_type": "markdown",
   "metadata": {
    "_cell_guid": "f0e3ee8c-245a-4dd9-a1b7-2538954fc0f3",
    "_uuid": "dd59403cb0747474216887177e9cbce653aafe55"
   },
   "source": [
    "Now, we calculate the orange area by integrating the curve function:"
   ]
  },
  {
   "cell_type": "code",
   "execution_count": 7,
   "metadata": {
    "_cell_guid": "fbce16e9-ee12-41d0-97e2-9c1263601d20",
    "_uuid": "7832cedb49a7cc7c5ff58818523a4f42f484c451",
    "collapsed": true
   },
   "outputs": [
    {
     "name": "stdout",
     "output_type": "stream",
     "text": [
      "Orange Area: 0.189\n"
     ]
    }
   ],
   "source": [
    "fy = scipy.interpolate.interp1d(x_values, y_values)\n",
    "blue_area, _ = scipy.integrate.quad(fy, 0, 1, points=x_values)\n",
    "orange_area = 0.5 - blue_area\n",
    "print('Orange Area: %.3f' % orange_area)"
   ]
  },
  {
   "cell_type": "markdown",
   "metadata": {
    "_cell_guid": "d6347ea7-81de-4662-b049-4296629c0788",
    "_uuid": "8ff8f72335376c8ea6492c7755687878e72b998e"
   },
   "source": [
    "So, the orange area is equal to the Gini Coefficient calcualted above with the `gini` function. We can do the same using the actual values as predictions to get the maximum possible Gini Coefficient."
   ]
  },
  {
   "cell_type": "code",
   "execution_count": 8,
   "metadata": {
    "_cell_guid": "b23bc1ed-19c8-4f4b-b65b-7205138f5467",
    "_uuid": "325e65de5224d5850a29b1ca0c27dae620677252",
    "collapsed": true
   },
   "outputs": [
    {
     "data": {
      "image/png": "[encoded data removed]",
      "text/plain": [
       "<matplotlib.figure.Figure at 0x7f9764a3ba90>"
      ]
     },
     "metadata": {},
     "output_type": "display_data"
    },
    {
     "name": "stdout",
     "output_type": "stream",
     "text": [
      "Orange Area: 0.300\n"
     ]
    }
   ],
   "source": [
    "cumulative_actual_shares_perfect = np.cumsum(sorted(actual)) / sum(actual)\n",
    "y_values_perfect = [0] + list(cumulative_actual_shares_perfect)\n",
    "\n",
    "# Display the 45° line stacked on top of the y values\n",
    "diagonal = [x - y for (x, y) in zip(x_values, y_values_perfect)]\n",
    "\n",
    "plt.stackplot(x_values, y_values_perfect, diagonal)\n",
    "plt.xlabel('Cumulative Share of Predictions')\n",
    "plt.ylabel('Cumulative Share of Actual Values')\n",
    "plt.show()\n",
    "\n",
    "# Integrate the the curve function\n",
    "fy = scipy.interpolate.interp1d(x_values, y_values_perfect)\n",
    "blue_area, _ = scipy.integrate.quad(fy, 0, 1, points=x_values)\n",
    "orange_area = 0.5 - blue_area\n",
    "print('Orange Area: %.3f' % orange_area)"
   ]
  },
  {
   "cell_type": "markdown",
   "metadata": {
    "_cell_guid": "82bd2a05-48cb-4371-b3b9-217aa41e8c71",
    "_uuid": "c032f242a2b15103185fbae9af91de142bc61b4b"
   },
   "source": [
    "Dividing both orange areas gives us the Normalized Gini Coefficient: \n",
    "\n",
    "0.189 / 0.3 = 0.630"
   ]
  },
  {
   "cell_type": "markdown",
   "metadata": {
    "_cell_guid": "ab3a0113-cae2-4d70-ade4-3d88a0711ad3",
    "_uuid": "03fcc0ce3db7b15ee5a96f6e7a2584a6a43a3878"
   },
   "source": [
    "## Alternative explanation\n",
    "\n",
    "I also found another interpreation of the Gini Coefficient [here](http://www.rhinorisk.com/Publications/Gini%20Coefficients.pdf). Again, we take the predictions and actual values from above and sort them in descending order:"
   ]
  },
  {
   "cell_type": "code",
   "execution_count": 9,
   "metadata": {
    "_cell_guid": "e2238378-b157-4a33-96d5-44797eaa784d",
    "_uuid": "66cd9caee9275a63149cda7754a47ea1eaec7069",
    "collapsed": true
   },
   "outputs": [
    {
     "name": "stdout",
     "output_type": "stream",
     "text": [
      "Predictions [0.9, 0.3, 0.8, 0.75, 0.65, 0.6, 0.78, 0.7, 0.05, 0.4, 0.4, 0.05, 0.5, 0.1, 0.1]\n",
      "Actual Values [1, 1, 1, 1, 1, 1, 0, 0, 0, 0, 0, 0, 0, 0, 0]\n",
      "Sorted Actual [1, 1, 0, 1, 0, 1, 1, 0, 0, 0, 1, 0, 0, 0, 0]\n"
     ]
    }
   ],
   "source": [
    "print(\"Predictions\", predictions)\n",
    "print(\"Actual Values\", actual)\n",
    "print(\"Sorted Actual\", list(reversed(sorted_actual)))"
   ]
  },
  {
   "cell_type": "markdown",
   "metadata": {
    "_cell_guid": "1fd79d9e-bd7f-4d50-8c1d-c457238db2b9",
    "_uuid": "61b70166cff94ebc224887428ce2f89db14ef6e3"
   },
   "source": [
    "Now, we count the number of swaps of adjacent digits (like in bubble sort) it would take to get from the \"Sorted Actual\" state to the \"Actual Values\" state. In this scenario, it would take 10 swaps.\n",
    "\n",
    "We also calculate the number of swaps it would take on average to get from a random state to the \"Actual Values\" state. With 6 ones and 9 zeros this results in \n",
    "\n",
    "$$\\frac{6 \\cdot 9}{2} = 27$$ swaps.\n",
    "\n",
    "The Normalized Gini-Coefficient is how far away our sorted actual values are from a random state measured in number of swaps:\n",
    "\n",
    "$$NGini = \\frac{swaps_{random} - swaps_{sorted}}{swaps_{random}} = \\frac{27 - 10}{27} = 63\\%$$\n"
   ]
  },
  {
   "cell_type": "markdown",
   "metadata": {
    "_cell_guid": "a6153b13-832e-4b59-83ab-7eeb90ebdaea",
    "_uuid": "38b44b35ce1a4ca8b3f8bd74454dd63ba363f5b3"
   },
   "source": [
    "I hope I could give you a better feeling for the Gini coefficient."
   ]
  }
 ],
 "metadata": {
  "kernelspec": {
   "display_name": "Python 3",
   "language": "python",
   "name": "python3"
  },
  "language_info": {
   "codemirror_mode": {
    "name": "ipython",
    "version": 3
   },
   "file_extension": ".py",
   "mimetype": "text/x-python",
   "name": "python",
   "nbconvert_exporter": "python",
   "pygments_lexer": "ipython3",
   "version": "3.7.3"
  }
 },
 "nbformat": 4,
 "nbformat_minor": 1
}
