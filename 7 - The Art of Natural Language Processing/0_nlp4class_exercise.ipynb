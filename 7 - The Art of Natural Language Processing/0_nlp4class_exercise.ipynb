{
 "cells": [
  {
   "cell_type": "code",
   "execution_count": 2,
   "metadata": {},
   "outputs": [
    {
     "name": "stdout",
     "output_type": "stream",
     "text": [
      "3.6.12 |Anaconda, Inc.| (default, Sep  8 2020, 17:50:39) \n",
      "[GCC Clang 10.0.0 ]\n",
      "/Users/Guangyuan/opt/anaconda3/envs/r_keras/bin/python\n"
     ]
    }
   ],
   "source": [
    "import sys\n",
    "print(sys.version)\n",
    "print(sys.executable)"
   ]
  },
  {
   "cell_type": "markdown",
   "metadata": {},
   "source": [
    "# 目录\n",
    "1. [环境设置](#started)\n",
    "2. [导入数据](#import)\n",
    "3. [数据预处理](#preprocess)\n",
    "4. [描述性分析](#describe)\n",
    "5. [Machine learning](#ML)  \n",
    "    5.1. [Adaptive boosting (ADA)](#ADA)  \n",
    "    .......5.1.1. [Bag-of-words](#ADA_BOW)  \n",
    "    .......5.1.2. [Bag-of-POS](#ADA_BOP)  \n",
    "    .......5.1.3. [Embeddings](#ADA_E)  \n",
    "    5.2. [Random forests (RF)](#RF)  \n",
    "    .......5.2.1. [Bag-of-words](#RF_BOW)  \n",
    "    .......5.2.2. [Bag-of-POS](#RF_BOP)  \n",
    "    .......5.2.3. [Embeddings](#RF_E)  \n",
    "    5.3. [Extreme gradient boosting (XGB)](#XGB)  \n",
    "    .......5.3.1. [Bag-of-words](#XGB_BOW)  \n",
    "    .......5.3.2. [Bag-of-POS](#XGB_BOP)  \n",
    "    .......5.3.3. [Embeddings](#XGB_E)\n",
    "6. [Deep learning](#DL)  \n",
    "    6.1. [Train test split](#trainsplit)  \n",
    "    6.2. [Define the model](#modeldef)  \n",
    "    .......6.2.1. [Shallow LSTM](#LSTM1)  \n",
    "    .......6.2.2. [Shallow GRU](#GRU1)  \n",
    "    .......6.2.3. [Deep LSTM](#LSTM2)    \n",
    "    6.3. [Train the model](#trainmodel)  \n",
    "    6.4. [Evaluate the model on test data](#evalmodel)  "
   ]
  },
  {
   "cell_type": "markdown",
   "metadata": {},
   "source": [
    "# 1. 环境设置<a name=\"started\"></a>"
   ]
  },
  {
   "cell_type": "markdown",
   "metadata": {},
   "source": [
    "变量初始化和显示设置"
   ]
  },
  {
   "cell_type": "code",
   "execution_count": 3,
   "metadata": {},
   "outputs": [
    {
     "data": {
      "text/html": [
       "<style>.container { width:100% !important; }</style>"
      ],
      "text/plain": [
       "<IPython.core.display.HTML object>"
      ]
     },
     "metadata": {},
     "output_type": "display_data"
    }
   ],
   "source": [
    "# Notebook settings\n",
    "###################\n",
    "# resetting variables\n",
    "get_ipython().magic('reset -sf') \n",
    "# formatting: cell width\n",
    "from IPython.core.display import display, HTML\n",
    "display(HTML(\"<style>.container { width:100% !important; }</style>\"))\n",
    "# plotting\n",
    "%matplotlib inline"
   ]
  },
  {
   "cell_type": "markdown",
   "metadata": {},
   "source": [
    "# 2. 导入数据<a name=\"import\"></a>"
   ]
  },
  {
   "cell_type": "markdown",
   "metadata": {},
   "source": [
    "我们从原始数据（50000条评论数据，平均分为train/pos、train/neg、test/pos和test/neg四部分）中随机抽取了1%，即500条数据进行测试。\n",
    "该部分将分布在四个文件夹中（保持原始文件结构不变）500条数据依次全部读取到DataFrame类型的df变量中。"
   ]
  },
  {
   "cell_type": "code",
   "execution_count": 4,
   "metadata": {},
   "outputs": [
    {
     "name": "stderr",
     "output_type": "stream",
     "text": [
      "0% [##############################] 100% | ETA: 00:00:00\n",
      "Total time elapsed: 00:00:01\n"
     ]
    }
   ],
   "source": [
    "def listdirInMac(path):\n",
    "    os_list = os.listdir(path)\n",
    "    for item in os_list:\n",
    "        if item.startswith('.') and os.path.isfile(os.path.join(path, item)):\n",
    "            os_list.remove(item)\n",
    "    return os_list\n",
    "#因为os.listdir会默认把隐藏文件读进去 所以对该函数进行重新定义 不然会报错\n",
    "# we use the import function, as in Chapter 8 of Raschka's book (see the tutorial)\n",
    "import pyprind\n",
    "import pandas as pd\n",
    "import os\n",
    "basepath = './toymdb/' # insert basepath, where original data are stored\n",
    "\n",
    "labels = {'pos': 1, 'neg': 0}\n",
    "pbar = pyprind.ProgBar(500)\n",
    "df = pd.DataFrame()\n",
    "for s in ('test', 'train'):\n",
    "    for l in ('pos', 'neg'):\n",
    "        path = os.path.join(basepath, s, l)\n",
    "        for file in listdirInMac(path):\n",
    "            #把原来的os.listdir改为listdirInMac\n",
    "            with open(os.path.join(path, file), \n",
    "                      'r', encoding='utf-8') as infile:\n",
    "                txt = infile.read()\n",
    "            df = df.append([[txt, labels[l]]], \n",
    "                           ignore_index=True)\n",
    "            pbar.update()\n",
    "df.columns = ['review', 'sentiment']"
   ]
  },
  {
   "cell_type": "code",
   "execution_count": 5,
   "metadata": {},
   "outputs": [
    {
     "name": "stdout",
     "output_type": "stream",
     "text": [
      "                                              review  sentiment\n",
      "0  I rented this obscure aussie relic a few years...          1\n"
     ]
    }
   ],
   "source": [
    "print(df.head(1))"
   ]
  },
  {
   "cell_type": "markdown",
   "metadata": {},
   "source": [
    "# 3. 数据预处理<a name=\"preprocess\"></a>"
   ]
  },
  {
   "cell_type": "markdown",
   "metadata": {},
   "source": [
    "该部分包括：<br><br/>\n",
    "3.1 去重<br><br/>\n",
    "3.2 随机排列<br><br/>\n",
    "3.3 符号和大小写处理<br><br/>\n",
    "3.4 生成针对模型的数据<br><br/>\n",
    "    &nbsp;&nbsp;&nbsp;&nbsp;3.4.1 词性标注<br><br/>\n",
    "    &nbsp;&nbsp;&nbsp;&nbsp;3.4.2 词嵌入<br><br/>\n",
    "    &nbsp;&nbsp;&nbsp;&nbsp;3.4.3 用Keras进行针对RNN模型的数据预处理<br><br/>\n",
    "分别生成data_POStagged.csv、data_dedandprep.csv和movie_data_processed.csv三个数据文件，其中前两个文件用于ml模型，带三个文件用于RNN模型。"
   ]
  },
  {
   "cell_type": "markdown",
   "metadata": {},
   "source": [
    "## 3.1 去重<a name=\"duplicated\"></a>"
   ]
  },
  {
   "cell_type": "code",
   "execution_count": 6,
   "metadata": {},
   "outputs": [
    {
     "name": "stdout",
     "output_type": "stream",
     "text": [
      "0\n"
     ]
    }
   ],
   "source": [
    "# check for duplicates\n",
    "duplicates = df[df.duplicated()]  #equivalent to keep = first. Duplicated rows, except the first entry, are marked as 'True'\n",
    "print(len(duplicates))\n",
    "#抽取的部分不存在重复数据"
   ]
  },
  {
   "cell_type": "code",
   "execution_count": 7,
   "metadata": {},
   "outputs": [
    {
     "data": {
      "text/plain": [
       "(500, 2)"
      ]
     },
     "execution_count": 7,
     "metadata": {},
     "output_type": "execute_result"
    }
   ],
   "source": [
    "# remove duplicates: \n",
    "df = df.drop_duplicates()\n",
    "df.shape\n",
    "#总共抽取了train和test中pos和neg各125个数据 总计500个"
   ]
  },
  {
   "cell_type": "code",
   "execution_count": 8,
   "metadata": {},
   "outputs": [
    {
     "data": {
      "text/html": [
       "<div>\n",
       "<style scoped>\n",
       "    .dataframe tbody tr th:only-of-type {\n",
       "        vertical-align: middle;\n",
       "    }\n",
       "\n",
       "    .dataframe tbody tr th {\n",
       "        vertical-align: top;\n",
       "    }\n",
       "\n",
       "    .dataframe thead th {\n",
       "        text-align: right;\n",
       "    }\n",
       "</style>\n",
       "<table border=\"1\" class=\"dataframe\">\n",
       "  <thead>\n",
       "    <tr style=\"text-align: right;\">\n",
       "      <th></th>\n",
       "      <th>review</th>\n",
       "      <th>sentiment</th>\n",
       "    </tr>\n",
       "  </thead>\n",
       "  <tbody>\n",
       "  </tbody>\n",
       "</table>\n",
       "</div>"
      ],
      "text/plain": [
       "Empty DataFrame\n",
       "Columns: [review, sentiment]\n",
       "Index: []"
      ]
     },
     "execution_count": 8,
     "metadata": {},
     "output_type": "execute_result"
    }
   ],
   "source": [
    "# double check\n",
    "df[df.duplicated(subset='review')]"
   ]
  },
  {
   "cell_type": "markdown",
   "metadata": {},
   "source": [
    "## 3.2 随机化<a name=\"Shuffle\"></a>"
   ]
  },
  {
   "cell_type": "markdown",
   "metadata": {},
   "source": [
    "因为读取的时候是按照train/pos、train/neg、test/pos和test/neg顺序读取的，有模型训练时，我们采用前80%作为训练数据，后20%作为预测数据，如果不做随机处理，预测数据的实际类型都是一致的。（实际上在ml模型拟合之前都重新对数据进行了随机化，所以这一步是针对DL模型的）"
   ]
  },
  {
   "cell_type": "code",
   "execution_count": 9,
   "metadata": {},
   "outputs": [],
   "source": [
    "# We shuffle the data to ensure randomness in the training input\n",
    "# 随机排列\n",
    "import numpy as np\n",
    "np.random.seed(0)\n",
    "df = df.reindex(np.random.permutation(df.index))\n",
    "df = df.reset_index(drop=True) # reset the index after the permutation"
   ]
  },
  {
   "cell_type": "markdown",
   "metadata": {},
   "source": [
    "## 3.3 符号和大小写处理<a name=\"mark\"></a>"
   ]
  },
  {
   "cell_type": "code",
   "execution_count": 10,
   "metadata": {},
   "outputs": [
    {
     "data": {
      "text/plain": [
       "\"This movie is the only movie to feature a scene in which Michael Jackson wields a Tommy Gun. Plain and simple.<br /><br />This movie rocks because it is freaking' hilarious! It may be creepy to see Jacko w/ little kids, but this movie also stars.......................................... wait for it,.....................<br /><br />JOE PESCI!!!!!!!!!!!!!!!!!!!!!<br /><br />Think about it, Joe Pesci and Jacko with Tommy guns, throwing coins into jukeboxes from 20 feet away? Whats not to like? As stated before, THIS MOVIE ROCKS!!!!!!!!!!!! !!!!!!! !!!!!!!!!!! !!!!!!!! !!!! !!!!!!! !!!!!!!!!!!!!!!!!!!!!!!!!!!!!!! !!!!!!!!!!!!!! !!!!!!!!!! !!!!!!! ! !!!! !!!!!!!!!!!!!!!!!!!!!!\""
      ]
     },
     "execution_count": 10,
     "metadata": {},
     "output_type": "execute_result"
    }
   ],
   "source": [
    "# an example of 'raw' review: we have all sort of HTML markup\n",
    "df.loc[2, 'review']"
   ]
  },
  {
   "cell_type": "code",
   "execution_count": 11,
   "metadata": {},
   "outputs": [],
   "source": [
    "# preprocessing by Raschka, Chpater 8 (see tutorial)\n",
    "# we remove all markups, substitute non-alphanumeric characters (including \n",
    "# underscore) with whitespaces, and remove the nose from emoticons\n",
    "import re\n",
    "def preprocessor(text):\n",
    "    text = re.sub('<[^>]*>', '', text)\n",
    "    #sub() 替换函数\n",
    "    #用’‘替换 <[^>]*> 这些字符\n",
    "    #即将 <[^>]*> 这些字符都删去\n",
    "    emoticons = re.findall('(?::|;|=)(?:-)?(?:\\)|\\(|D|P)', text)\n",
    "    # ?: 匹配但不获取结果 要和其他的模式一起使用\n",
    "    text = (re.sub('[\\W]+', ' ', text.lower()) +\n",
    "            ' '.join(emoticons).replace('-', ''))\n",
    "    return text\n",
    "\n",
    "df['review'] = df['review'].apply(preprocessor)"
   ]
  },
  {
   "cell_type": "code",
   "execution_count": 12,
   "metadata": {},
   "outputs": [
    {
     "data": {
      "text/plain": [
       "'this movie is the only movie to feature a scene in which michael jackson wields a tommy gun plain and simple this movie rocks because it is freaking hilarious it may be creepy to see jacko w little kids but this movie also stars wait for it joe pesci think about it joe pesci and jacko with tommy guns throwing coins into jukeboxes from 20 feet away whats not to like as stated before this movie rocks '"
      ]
     },
     "execution_count": 12,
     "metadata": {},
     "output_type": "execute_result"
    }
   ],
   "source": [
    "df.loc[2, 'review']"
   ]
  },
  {
   "cell_type": "code",
   "execution_count": 13,
   "metadata": {},
   "outputs": [],
   "source": [
    "# save preprocessed data as csv \n",
    "path = './toymdb/data_preprocessed.csv'  # insert path\n",
    "df.to_csv(path, index=False, encoding='utf-8')"
   ]
  },
  {
   "cell_type": "markdown",
   "metadata": {},
   "source": [
    "## 3.4 生成针对模型的数据<a name=\"preprocess2model\"></a>"
   ]
  },
  {
   "cell_type": "markdown",
   "metadata": {},
   "source": [
    "需要注意的是，这一步生成的数据并不是最终进行模型拟合的数据。"
   ]
  },
  {
   "cell_type": "markdown",
   "metadata": {},
   "source": [
    "### 3.4.1 词性标准<a name=\"POS-tagging\"></a>"
   ]
  },
  {
   "cell_type": "markdown",
   "metadata": {},
   "source": [
    "该步骤的目的是为每一条文本生成'text_pos'属性，该属性是一个由“-”连接的字符串，它按顺序连接了经过预处理的文本中每个单词的词性数据。"
   ]
  },
  {
   "cell_type": "code",
   "execution_count": 14,
   "metadata": {},
   "outputs": [
    {
     "data": {
      "text/plain": [
       "(500, 2)"
      ]
     },
     "execution_count": 14,
     "metadata": {},
     "output_type": "execute_result"
    }
   ],
   "source": [
    "# we apply POS-tagging on (deduplicated and) pre-processed data - let us import them\n",
    "path = './toymdb/data_preprocessed.csv' # insert path\n",
    "# 注意路径最好不要带中文，有可能会报错\n",
    "df = pd.read_csv(path, encoding='utf-8')\n",
    "df.shape"
   ]
  },
  {
   "cell_type": "code",
   "execution_count": 15,
   "metadata": {},
   "outputs": [],
   "source": [
    "# we import the NLTK resources\n",
    "import nltk\n",
    "from nltk import pos_tag, word_tokenize\n",
    "#NLTK包的pos_tag方法（part-of-speech tagging ）来对单词的词性进行标记\n",
    "#标记后的结果是二元数组格式\n",
    "\n",
    "# introduction of POS tagger per NLTK token\n",
    "def pos_tags(text):\n",
    "    text_processed = word_tokenize(text)\n",
    "    return \"-\".join( tag for (word, tag) in nltk.pos_tag(text_processed))\n",
    "\n",
    "# applying POS tagger to data \n",
    "############################################\n",
    "df['text_pos']=df.apply(lambda x: pos_tags(x['review']), axis=1)\n",
    "#text_pos是一个由“-”连接的字符串，它按顺序连接了经过预处理的文本中每个单词的词性数据"
   ]
  },
  {
   "cell_type": "markdown",
   "metadata": {},
   "source": [
    "如果出现LookupError:   \n",
    "    Resource punkt not found.\n",
    "    Please use the NLTK Downloader to obtain the resource:\n",
    "    >>> import nltk\n",
    "    >>> nltk.download('punkt')\n",
    "要用以上命令先下载'punkt'\n",
    "\n",
    "如果nltk.download('punkt')下载失败：\n",
    "解决方法1：修改host文件（详情请参考https://blog.csdn.net/xiangduixuexi/article/details/108601873）\n",
    "解决方法2：把'punkt.zip'拷贝至'/Users/huihuajiang/nltk_data/tokenizers/'(如果没有tokenizers文件则新建一个)\n",
    "         用以下命令可以查看你的 nltk_data 文件夹路径：\n",
    "             import nltk\n",
    "             print(nltk.data.path)"
   ]
  },
  {
   "cell_type": "code",
   "execution_count": 16,
   "metadata": {},
   "outputs": [],
   "source": [
    "#import nltk\n",
    "#print(nltk.data.path)"
   ]
  },
  {
   "cell_type": "code",
   "execution_count": 17,
   "metadata": {},
   "outputs": [
    {
     "name": "stdout",
     "output_type": "stream",
     "text": [
      "DT-NN-VBZ-DT-JJ-NN-TO-VB-DT-NN-IN-WDT-NN-NN-VBZ-DT-JJ-NN-NN-CC-NN-DT-NN-VBZ-IN-PRP-VBZ-VBG-JJ-PRP-MD-VB-VBN-TO-VB-JJ-JJ-JJ-NNS-CC-DT-NN-RB-VBZ-NN-IN-PRP-VBZ-JJ-VBP-IN-PRP-VBZ-NN-CC-NN-IN-JJ-NNS-VBG-NNS-IN-NNS-IN-CD-NNS-RB-VBZ-RB-TO-VB-IN-VBN-IN-DT-NN-NNS\n"
     ]
    }
   ],
   "source": [
    "print(df['text_pos'][2])"
   ]
  },
  {
   "cell_type": "code",
   "execution_count": 18,
   "metadata": {},
   "outputs": [],
   "source": [
    "# save POS-tagged data as csv \n",
    "path = './toymdb/data_POStagged.csv' # insert path \n",
    "df.to_csv(path, index=False, encoding='utf-8')"
   ]
  },
  {
   "cell_type": "markdown",
   "metadata": {},
   "source": [
    "### 3.4.2 词嵌入<a name=\"Word-embeddings\"></a>"
   ]
  },
  {
   "cell_type": "code",
   "execution_count": 19,
   "metadata": {},
   "outputs": [],
   "source": [
    "import pyprind\n",
    "import pandas as pd\n",
    "import os"
   ]
  },
  {
   "cell_type": "code",
   "execution_count": 20,
   "metadata": {},
   "outputs": [
    {
     "data": {
      "text/plain": [
       "(500, 2)"
      ]
     },
     "execution_count": 20,
     "metadata": {},
     "output_type": "execute_result"
    }
   ],
   "source": [
    "# we apply embeddings on de-duplicated and pre-processed data - let us import them\n",
    "path = './toymdb/data_preprocessed.csv' # insert path\n",
    "df = pd.read_csv(path, encoding='utf-8')\n",
    "df.shape"
   ]
  },
  {
   "cell_type": "code",
   "execution_count": 21,
   "metadata": {},
   "outputs": [],
   "source": [
    "# import pre-trained word embedding model\n",
    "import spacy\n",
    "nlp = spacy.load('en_core_web_sm') \n",
    "# load the model first if necessary: python -m spacy download en_core_web_md\n",
    "# 这个模型要下载很久\n",
    "# https://spacy.io/models/en#en_core_web_md\n",
    "# 根据下一个cell的提示，我们换用en_core_web_sm模型\n",
    "#OSError: [E050] Can't find model 'en_core_web_sm'. It doesn't seem to be a shortcut link, a Python package or a valid path to a data directory. \n",
    "#解决方法：https://www.freesion.com/article/73801416523/ 可以用：python -m spacy download en_core_web_sm"
   ]
  },
  {
   "cell_type": "code",
   "execution_count": 22,
   "metadata": {},
   "outputs": [],
   "source": [
    "# we stack (like a numpy vertical stack) the 300 variables obtained from averaging the embedding of each df.review entry\n",
    "# WARNING: this is computationally expensive. Alternatively try with the smaller model en_core_web_sm\n",
    "import numpy as np\n",
    "emb = np.vstack(df.review.apply(lambda x: nlp(x).vector))"
   ]
  },
  {
   "cell_type": "code",
   "execution_count": 23,
   "metadata": {},
   "outputs": [
    {
     "name": "stdout",
     "output_type": "stream",
     "text": [
      "(500, 96)\n",
      "['0' '1' '2' '3' '4' '5' '6' '7' '8' '9' '10' '11' '12' '13' '14' '15'\n",
      " '16' '17' '18' '19' '20' '21' '22' '23' '24' '25' '26' '27' '28' '29'\n",
      " '30' '31' '32' '33' '34' '35' '36' '37' '38' '39' '40' '41' '42' '43'\n",
      " '44' '45' '46' '47' '48' '49' '50' '51' '52' '53' '54' '55' '56' '57'\n",
      " '58' '59' '60' '61' '62' '63' '64' '65' '66' '67' '68' '69' '70' '71'\n",
      " '72' '73' '74' '75' '76' '77' '78' '79' '80' '81' '82' '83' '84' '85'\n",
      " '86' '87' '88' '89' '90' '91' '92' '93' '94' '95']\n"
     ]
    }
   ],
   "source": [
    "# embeddings into a dataframe\n",
    "emb = pd.DataFrame(emb, columns = np.array([str(x) for x in range(0, 96)]) )\n",
    "print(emb.shape)\n",
    "print(emb.columns.values)"
   ]
  },
  {
   "cell_type": "code",
   "execution_count": 24,
   "metadata": {},
   "outputs": [],
   "source": [
    "# join embeddings with dataframe\n",
    "df_embed = pd.concat([df, emb], axis=1)"
   ]
  },
  {
   "cell_type": "code",
   "execution_count": 25,
   "metadata": {},
   "outputs": [
    {
     "data": {
      "text/plain": [
       "(500, 98)"
      ]
     },
     "execution_count": 25,
     "metadata": {},
     "output_type": "execute_result"
    }
   ],
   "source": [
    "# check the shape of the resulting dataframe\n",
    "df_embed.shape"
   ]
  },
  {
   "cell_type": "code",
   "execution_count": 26,
   "metadata": {},
   "outputs": [],
   "source": [
    "# save word embedding data as csv \n",
    "path = './toymdb/data_dedandprep.csv' # insert path\n",
    "df_embed.to_csv(path, index=False, encoding='utf-8')"
   ]
  },
  {
   "cell_type": "markdown",
   "metadata": {},
   "source": [
    "### 3.4.3 用Keras进行针对RNN模型的数据预处理<a name=\"preprocess2rnn\"></a>"
   ]
  },
  {
   "cell_type": "markdown",
   "metadata": {},
   "source": [
    "RNN方法在文本所需要的预处理上具备优势"
   ]
  },
  {
   "cell_type": "code",
   "execution_count": 27,
   "metadata": {},
   "outputs": [
    {
     "data": {
      "text/plain": [
       "(500, 2)"
      ]
     },
     "execution_count": 27,
     "metadata": {},
     "output_type": "execute_result"
    }
   ],
   "source": [
    "path = './toymdb/data_preprocessed.csv' # insert path\n",
    "df = pd.read_csv(path, encoding='utf-8')\n",
    "df.shape"
   ]
  },
  {
   "cell_type": "code",
   "execution_count": 28,
   "metadata": {},
   "outputs": [
    {
     "name": "stderr",
     "output_type": "stream",
     "text": [
      "Counting words occurrences\n",
      "0% [##############################] 100% | ETA: 00:00:00\n",
      "Total time elapsed: 00:00:00\n"
     ]
    }
   ],
   "source": [
    "# Minimal preprocessing and generating word counts:\n",
    "#  - we surround all punctuation by whitespaces\n",
    "#  - all text is converted to lowercase\n",
    "#  - word counts are generated by splitting the text on whitespaces\n",
    "import pyprind\n",
    "from string import punctuation\n",
    "from collections import Counter\n",
    "\n",
    "counts = Counter()\n",
    "pbar = pyprind.ProgBar(len(df['review']), title='Counting words occurrences')\n",
    "for i,review in enumerate(df['review']):\n",
    "    text = ''.join([c if c not in punctuation else ' '+c+' '  \n",
    "                    for c in review]).lower()\n",
    "    df.loc[i,'review'] = text\n",
    "    pbar.update()\n",
    "    counts.update(text.split()) # splitting on whitespace"
   ]
  },
  {
   "cell_type": "code",
   "execution_count": 29,
   "metadata": {},
   "outputs": [
    {
     "name": "stdout",
     "output_type": "stream",
     "text": [
      "Number of unique words: 12173\n"
     ]
    }
   ],
   "source": [
    "# get the size of the vocabulary\n",
    "print('Number of unique words:', len(counts))"
   ]
  },
  {
   "cell_type": "code",
   "execution_count": 30,
   "metadata": {},
   "outputs": [
    {
     "name": "stdout",
     "output_type": "stream",
     "text": [
      "Number of words that appear more than once: 5930\n",
      "Number of words that appear more than 30 times: 409\n"
     ]
    }
   ],
   "source": [
    "# investigate how many words appear only rarely in the reviews\n",
    "print('Number of words that appear more than once:', \n",
    "      len([k for k, v in counts.items() if v > 1]))\n",
    "print('Number of words that appear more than 30 times:', \n",
    "      len([k for k, v in counts.items() if v > 30]))"
   ]
  },
  {
   "cell_type": "code",
   "execution_count": 31,
   "metadata": {},
   "outputs": [],
   "source": [
    "# hence we use only the 400 most common in our vocabulary \n",
    "# this will make training more efficient without loosing too much information\n",
    "vocab_size = 400\n",
    "\n",
    "# create a dictionary with word:integer pairs for all unique words\n",
    "word_counts = sorted(counts, key=counts.get, reverse=True)\n",
    "word_counts = word_counts[0:vocab_size]\n",
    "word_to_int = {word: ii for ii, word in enumerate(word_counts, 1)}"
   ]
  },
  {
   "cell_type": "code",
   "execution_count": 32,
   "metadata": {},
   "outputs": [
    {
     "name": "stderr",
     "output_type": "stream",
     "text": [
      "Map reviews to ints\n",
      "0% [##############################] 100% | ETA: 00:00:00\n",
      "Total time elapsed: 00:00:00\n"
     ]
    }
   ],
   "source": [
    "# Mapping words to integers\n",
    "# create a list with all reviews in integer coded form\n",
    "mapped_reviews = []\n",
    "pbar = pyprind.ProgBar(len(df['review']), title='Map reviews to ints')\n",
    "for review in df['review']:\n",
    "    mapped_reviews.append([word_to_int[word] \n",
    "                           for word in review.split() \n",
    "                           if word in word_to_int.keys()])\n",
    "    pbar.update()"
   ]
  },
  {
   "cell_type": "code",
   "execution_count": 33,
   "metadata": {},
   "outputs": [
    {
     "name": "stdout",
     "output_type": "stream",
     "text": [
      "Median length of mapped reviews: 121.0\n"
     ]
    }
   ],
   "source": [
    "# get the median length of the mapped review sequences to inform the choice of sequence_length\n",
    "print('Median length of mapped reviews:',\n",
    "      np.median([len(review) for review in mapped_reviews]))"
   ]
  },
  {
   "cell_type": "code",
   "execution_count": 34,
   "metadata": {},
   "outputs": [],
   "source": [
    "# Padding: set sequence length and ensure all mapped reviews are coerced to required length\n",
    "# if sequence length < T: left-pad with zeros\n",
    "# if sequence length > T: use the last T elements\n",
    "sequence_length = 200  # (Known as T in our RNN formulae)\n",
    "sequences = np.zeros((len(mapped_reviews), sequence_length), dtype=int)\n",
    "\n",
    "for i, row in enumerate(mapped_reviews):\n",
    "    review_arr = np.array(row)\n",
    "    sequences[i, -len(row):] = review_arr[-sequence_length:]"
   ]
  },
  {
   "cell_type": "code",
   "execution_count": 35,
   "metadata": {},
   "outputs": [
    {
     "data": {
      "text/html": [
       "<div>\n",
       "<style scoped>\n",
       "    .dataframe tbody tr th:only-of-type {\n",
       "        vertical-align: middle;\n",
       "    }\n",
       "\n",
       "    .dataframe tbody tr th {\n",
       "        vertical-align: top;\n",
       "    }\n",
       "\n",
       "    .dataframe thead th {\n",
       "        text-align: right;\n",
       "    }\n",
       "</style>\n",
       "<table border=\"1\" class=\"dataframe\">\n",
       "  <thead>\n",
       "    <tr style=\"text-align: right;\">\n",
       "      <th></th>\n",
       "      <th>sentiment</th>\n",
       "      <th>0</th>\n",
       "      <th>1</th>\n",
       "      <th>2</th>\n",
       "      <th>3</th>\n",
       "      <th>4</th>\n",
       "      <th>5</th>\n",
       "      <th>6</th>\n",
       "      <th>7</th>\n",
       "      <th>8</th>\n",
       "      <th>...</th>\n",
       "      <th>190</th>\n",
       "      <th>191</th>\n",
       "      <th>192</th>\n",
       "      <th>193</th>\n",
       "      <th>194</th>\n",
       "      <th>195</th>\n",
       "      <th>196</th>\n",
       "      <th>197</th>\n",
       "      <th>198</th>\n",
       "      <th>199</th>\n",
       "    </tr>\n",
       "  </thead>\n",
       "  <tbody>\n",
       "    <tr>\n",
       "      <th>0</th>\n",
       "      <td>1</td>\n",
       "      <td>0</td>\n",
       "      <td>0</td>\n",
       "      <td>0</td>\n",
       "      <td>0</td>\n",
       "      <td>0</td>\n",
       "      <td>0</td>\n",
       "      <td>0</td>\n",
       "      <td>0</td>\n",
       "      <td>0</td>\n",
       "      <td>...</td>\n",
       "      <td>9</td>\n",
       "      <td>221</td>\n",
       "      <td>9</td>\n",
       "      <td>14</td>\n",
       "      <td>32</td>\n",
       "      <td>1</td>\n",
       "      <td>258</td>\n",
       "      <td>7</td>\n",
       "      <td>14</td>\n",
       "      <td>2</td>\n",
       "    </tr>\n",
       "    <tr>\n",
       "      <th>1</th>\n",
       "      <td>1</td>\n",
       "      <td>11</td>\n",
       "      <td>255</td>\n",
       "      <td>1</td>\n",
       "      <td>22</td>\n",
       "      <td>10</td>\n",
       "      <td>1</td>\n",
       "      <td>6</td>\n",
       "      <td>375</td>\n",
       "      <td>8</td>\n",
       "      <td>...</td>\n",
       "      <td>2</td>\n",
       "      <td>249</td>\n",
       "      <td>47</td>\n",
       "      <td>143</td>\n",
       "      <td>133</td>\n",
       "      <td>5</td>\n",
       "      <td>343</td>\n",
       "      <td>46</td>\n",
       "      <td>10</td>\n",
       "      <td>19</td>\n",
       "    </tr>\n",
       "    <tr>\n",
       "      <th>2</th>\n",
       "      <td>1</td>\n",
       "      <td>0</td>\n",
       "      <td>0</td>\n",
       "      <td>0</td>\n",
       "      <td>0</td>\n",
       "      <td>0</td>\n",
       "      <td>0</td>\n",
       "      <td>0</td>\n",
       "      <td>0</td>\n",
       "      <td>0</td>\n",
       "      <td>...</td>\n",
       "      <td>85</td>\n",
       "      <td>35</td>\n",
       "      <td>200</td>\n",
       "      <td>23</td>\n",
       "      <td>5</td>\n",
       "      <td>38</td>\n",
       "      <td>16</td>\n",
       "      <td>171</td>\n",
       "      <td>10</td>\n",
       "      <td>15</td>\n",
       "    </tr>\n",
       "    <tr>\n",
       "      <th>3</th>\n",
       "      <td>0</td>\n",
       "      <td>1</td>\n",
       "      <td>367</td>\n",
       "      <td>34</td>\n",
       "      <td>151</td>\n",
       "      <td>2</td>\n",
       "      <td>89</td>\n",
       "      <td>32</td>\n",
       "      <td>11</td>\n",
       "      <td>112</td>\n",
       "      <td>...</td>\n",
       "      <td>19</td>\n",
       "      <td>2</td>\n",
       "      <td>42</td>\n",
       "      <td>52</td>\n",
       "      <td>4</td>\n",
       "      <td>112</td>\n",
       "      <td>5</td>\n",
       "      <td>22</td>\n",
       "      <td>1</td>\n",
       "      <td>6</td>\n",
       "    </tr>\n",
       "    <tr>\n",
       "      <th>4</th>\n",
       "      <td>0</td>\n",
       "      <td>8</td>\n",
       "      <td>5</td>\n",
       "      <td>26</td>\n",
       "      <td>8</td>\n",
       "      <td>197</td>\n",
       "      <td>15</td>\n",
       "      <td>28</td>\n",
       "      <td>16</td>\n",
       "      <td>3</td>\n",
       "      <td>...</td>\n",
       "      <td>1</td>\n",
       "      <td>144</td>\n",
       "      <td>4</td>\n",
       "      <td>1</td>\n",
       "      <td>4</td>\n",
       "      <td>166</td>\n",
       "      <td>28</td>\n",
       "      <td>329</td>\n",
       "      <td>10</td>\n",
       "      <td>29</td>\n",
       "    </tr>\n",
       "  </tbody>\n",
       "</table>\n",
       "<p>5 rows × 201 columns</p>\n",
       "</div>"
      ],
      "text/plain": [
       "   sentiment   0    1   2    3    4   5   6    7    8  ...  190  191  192  \\\n",
       "0          1   0    0   0    0    0   0   0    0    0  ...    9  221    9   \n",
       "1          1  11  255   1   22   10   1   6  375    8  ...    2  249   47   \n",
       "2          1   0    0   0    0    0   0   0    0    0  ...   85   35  200   \n",
       "3          0   1  367  34  151    2  89  32   11  112  ...   19    2   42   \n",
       "4          0   8    5  26    8  197  15  28   16    3  ...    1  144    4   \n",
       "\n",
       "   193  194  195  196  197  198  199  \n",
       "0   14   32    1  258    7   14    2  \n",
       "1  143  133    5  343   46   10   19  \n",
       "2   23    5   38   16  171   10   15  \n",
       "3   52    4  112    5   22    1    6  \n",
       "4    1    4  166   28  329   10   29  \n",
       "\n",
       "[5 rows x 201 columns]"
      ]
     },
     "execution_count": 35,
     "metadata": {},
     "output_type": "execute_result"
    }
   ],
   "source": [
    "# create df with processed data\n",
    "df_processed = pd.concat([df['sentiment'],pd.DataFrame(sequences)], axis=1)\n",
    "df_processed.head()"
   ]
  },
  {
   "cell_type": "code",
   "execution_count": 36,
   "metadata": {},
   "outputs": [
    {
     "data": {
      "text/html": [
       "<div>\n",
       "<style scoped>\n",
       "    .dataframe tbody tr th:only-of-type {\n",
       "        vertical-align: middle;\n",
       "    }\n",
       "\n",
       "    .dataframe tbody tr th {\n",
       "        vertical-align: top;\n",
       "    }\n",
       "\n",
       "    .dataframe thead th {\n",
       "        text-align: right;\n",
       "    }\n",
       "</style>\n",
       "<table border=\"1\" class=\"dataframe\">\n",
       "  <thead>\n",
       "    <tr style=\"text-align: right;\">\n",
       "      <th></th>\n",
       "      <th>sentiment</th>\n",
       "      <th>0</th>\n",
       "      <th>1</th>\n",
       "      <th>2</th>\n",
       "      <th>3</th>\n",
       "      <th>4</th>\n",
       "      <th>5</th>\n",
       "      <th>6</th>\n",
       "      <th>7</th>\n",
       "      <th>8</th>\n",
       "      <th>...</th>\n",
       "      <th>190</th>\n",
       "      <th>191</th>\n",
       "      <th>192</th>\n",
       "      <th>193</th>\n",
       "      <th>194</th>\n",
       "      <th>195</th>\n",
       "      <th>196</th>\n",
       "      <th>197</th>\n",
       "      <th>198</th>\n",
       "      <th>199</th>\n",
       "    </tr>\n",
       "  </thead>\n",
       "  <tbody>\n",
       "    <tr>\n",
       "      <th>0</th>\n",
       "      <td>1</td>\n",
       "      <td>0</td>\n",
       "      <td>0</td>\n",
       "      <td>0</td>\n",
       "      <td>0</td>\n",
       "      <td>0</td>\n",
       "      <td>0</td>\n",
       "      <td>0</td>\n",
       "      <td>0</td>\n",
       "      <td>0</td>\n",
       "      <td>...</td>\n",
       "      <td>9</td>\n",
       "      <td>221</td>\n",
       "      <td>9</td>\n",
       "      <td>14</td>\n",
       "      <td>32</td>\n",
       "      <td>1</td>\n",
       "      <td>258</td>\n",
       "      <td>7</td>\n",
       "      <td>14</td>\n",
       "      <td>2</td>\n",
       "    </tr>\n",
       "    <tr>\n",
       "      <th>1</th>\n",
       "      <td>1</td>\n",
       "      <td>11</td>\n",
       "      <td>255</td>\n",
       "      <td>1</td>\n",
       "      <td>22</td>\n",
       "      <td>10</td>\n",
       "      <td>1</td>\n",
       "      <td>6</td>\n",
       "      <td>375</td>\n",
       "      <td>8</td>\n",
       "      <td>...</td>\n",
       "      <td>2</td>\n",
       "      <td>249</td>\n",
       "      <td>47</td>\n",
       "      <td>143</td>\n",
       "      <td>133</td>\n",
       "      <td>5</td>\n",
       "      <td>343</td>\n",
       "      <td>46</td>\n",
       "      <td>10</td>\n",
       "      <td>19</td>\n",
       "    </tr>\n",
       "    <tr>\n",
       "      <th>2</th>\n",
       "      <td>1</td>\n",
       "      <td>0</td>\n",
       "      <td>0</td>\n",
       "      <td>0</td>\n",
       "      <td>0</td>\n",
       "      <td>0</td>\n",
       "      <td>0</td>\n",
       "      <td>0</td>\n",
       "      <td>0</td>\n",
       "      <td>0</td>\n",
       "      <td>...</td>\n",
       "      <td>85</td>\n",
       "      <td>35</td>\n",
       "      <td>200</td>\n",
       "      <td>23</td>\n",
       "      <td>5</td>\n",
       "      <td>38</td>\n",
       "      <td>16</td>\n",
       "      <td>171</td>\n",
       "      <td>10</td>\n",
       "      <td>15</td>\n",
       "    </tr>\n",
       "    <tr>\n",
       "      <th>3</th>\n",
       "      <td>0</td>\n",
       "      <td>1</td>\n",
       "      <td>367</td>\n",
       "      <td>34</td>\n",
       "      <td>151</td>\n",
       "      <td>2</td>\n",
       "      <td>89</td>\n",
       "      <td>32</td>\n",
       "      <td>11</td>\n",
       "      <td>112</td>\n",
       "      <td>...</td>\n",
       "      <td>19</td>\n",
       "      <td>2</td>\n",
       "      <td>42</td>\n",
       "      <td>52</td>\n",
       "      <td>4</td>\n",
       "      <td>112</td>\n",
       "      <td>5</td>\n",
       "      <td>22</td>\n",
       "      <td>1</td>\n",
       "      <td>6</td>\n",
       "    </tr>\n",
       "    <tr>\n",
       "      <th>4</th>\n",
       "      <td>0</td>\n",
       "      <td>8</td>\n",
       "      <td>5</td>\n",
       "      <td>26</td>\n",
       "      <td>8</td>\n",
       "      <td>197</td>\n",
       "      <td>15</td>\n",
       "      <td>28</td>\n",
       "      <td>16</td>\n",
       "      <td>3</td>\n",
       "      <td>...</td>\n",
       "      <td>1</td>\n",
       "      <td>144</td>\n",
       "      <td>4</td>\n",
       "      <td>1</td>\n",
       "      <td>4</td>\n",
       "      <td>166</td>\n",
       "      <td>28</td>\n",
       "      <td>329</td>\n",
       "      <td>10</td>\n",
       "      <td>29</td>\n",
       "    </tr>\n",
       "  </tbody>\n",
       "</table>\n",
       "<p>5 rows × 201 columns</p>\n",
       "</div>"
      ],
      "text/plain": [
       "   sentiment   0    1   2    3    4   5   6    7    8  ...  190  191  192  \\\n",
       "0          1   0    0   0    0    0   0   0    0    0  ...    9  221    9   \n",
       "1          1  11  255   1   22   10   1   6  375    8  ...    2  249   47   \n",
       "2          1   0    0   0    0    0   0   0    0    0  ...   85   35  200   \n",
       "3          0   1  367  34  151    2  89  32   11  112  ...   19    2   42   \n",
       "4          0   8    5  26    8  197  15  28   16    3  ...    1  144    4   \n",
       "\n",
       "   193  194  195  196  197  198  199  \n",
       "0   14   32    1  258    7   14    2  \n",
       "1  143  133    5  343   46   10   19  \n",
       "2   23    5   38   16  171   10   15  \n",
       "3   52    4  112    5   22    1    6  \n",
       "4    1    4  166   28  329   10   29  \n",
       "\n",
       "[5 rows x 201 columns]"
      ]
     },
     "execution_count": 36,
     "metadata": {},
     "output_type": "execute_result"
    }
   ],
   "source": [
    "from tensorflow.keras.preprocessing.text import Tokenizer\n",
    "#这个类用于对文本语料进行向量化\n",
    "#在机器学习中，一篇文本向量的给维度代表词汇表中的一个词，一篇文本在各维度上的值可以是布尔类型，TF值，TF-IDF值。\n",
    "#在神经网络中，文本向量化多了一个方法，就是将文本中的词语替换为该词在词汇表中的索引，加入这种方法的原因是可以方便地使用词嵌入技术。\n",
    "\n",
    "from tensorflow.keras.preprocessing.sequence import pad_sequences\n",
    "\n",
    "vocab_size = 400\n",
    "\n",
    "# map words to integers including minimal preprocessing\n",
    "tokenizer = Tokenizer(num_words=vocab_size, #词汇表中可使用的最大词语数量。词汇表按照词语频次降序存储各词语，可使用的词语为前num_words。\n",
    "                      filters='!\"#$%&()*+,-./:;<=>?@[\\\\]^_`{|}~\\t\\n', # filters out all punctuation other than '\n",
    "                            #在读入文本时，文本中出现的属于该字符串的任意字符都将被替换为空格。默认情况下该字符串为所有英文标点符号（除了'）\n",
    "                      lower=True, # convert to lowercase\n",
    "                      split=' ') # split on whitespaces\n",
    "tokenizer.fit_on_texts(df['review'])\n",
    "list_tokenized = tokenizer.texts_to_sequences(df['review'])\n",
    "\n",
    "# Padding to sequence_length\n",
    "sequence_length = 200\n",
    "sequences = pad_sequences(list_tokenized, maxlen=sequence_length)\n",
    "\n",
    "# create df with processed data\n",
    "df_processed = pd.concat([df['sentiment'], pd.DataFrame(sequences)], axis=1)\n",
    "df_processed.head()"
   ]
  },
  {
   "cell_type": "code",
   "execution_count": 37,
   "metadata": {},
   "outputs": [],
   "source": [
    "# save as csv \n",
    "path = \"./toymdb/movie_data_processed.csv\" # TODO: update to your path\n",
    "df_processed.to_csv(path, index=False, encoding='utf-8')"
   ]
  },
  {
   "cell_type": "markdown",
   "metadata": {},
   "source": [
    "# 以上步骤有问题可以直接读取处理好的数据，不影响后续步骤"
   ]
  },
  {
   "cell_type": "markdown",
   "metadata": {},
   "source": [
    "## 4. 描述性分析<a name=\"describe\"></a>"
   ]
  },
  {
   "cell_type": "code",
   "execution_count": 40,
   "metadata": {},
   "outputs": [],
   "source": [
    "# importing data\n",
    "import pandas as pd\n",
    "path = './toymdb/data_dedandprep.csv' \n",
    "# insert path for deduplicated and preprocessed data\n",
    "# 如果前面的步骤没有问题 你也可以把路径改成刚在生成的相应csv文件的路径\n",
    "df = pd.read_csv(path)"
   ]
  },
  {
   "cell_type": "code",
   "execution_count": 41,
   "metadata": {},
   "outputs": [
    {
     "data": {
      "text/plain": [
       "(500, 98)"
      ]
     },
     "execution_count": 41,
     "metadata": {},
     "output_type": "execute_result"
    }
   ],
   "source": [
    "# imported data structure\n",
    "df.shape"
   ]
  },
  {
   "cell_type": "code",
   "execution_count": 42,
   "metadata": {},
   "outputs": [
    {
     "data": {
      "text/plain": [
       "Index(['review', 'sentiment', '0', '1', '2', '3', '4', '5', '6', '7', '8', '9',\n",
       "       '10', '11', '12', '13', '14', '15', '16', '17', '18', '19', '20', '21',\n",
       "       '22', '23', '24', '25', '26', '27', '28', '29', '30', '31', '32', '33',\n",
       "       '34', '35', '36', '37', '38', '39', '40', '41', '42', '43', '44', '45',\n",
       "       '46', '47', '48', '49', '50', '51', '52', '53', '54', '55', '56', '57',\n",
       "       '58', '59', '60', '61', '62', '63', '64', '65', '66', '67', '68', '69',\n",
       "       '70', '71', '72', '73', '74', '75', '76', '77', '78', '79', '80', '81',\n",
       "       '82', '83', '84', '85', '86', '87', '88', '89', '90', '91', '92', '93',\n",
       "       '94', '95'],\n",
       "      dtype='object')"
      ]
     },
     "execution_count": 42,
     "metadata": {},
     "output_type": "execute_result"
    }
   ],
   "source": [
    "# columns in data\n",
    "df.columns"
   ]
  },
  {
   "cell_type": "code",
   "execution_count": 43,
   "metadata": {},
   "outputs": [
    {
     "data": {
      "text/html": [
       "<div>\n",
       "<style scoped>\n",
       "    .dataframe tbody tr th:only-of-type {\n",
       "        vertical-align: middle;\n",
       "    }\n",
       "\n",
       "    .dataframe tbody tr th {\n",
       "        vertical-align: top;\n",
       "    }\n",
       "\n",
       "    .dataframe thead th {\n",
       "        text-align: right;\n",
       "    }\n",
       "</style>\n",
       "<table border=\"1\" class=\"dataframe\">\n",
       "  <thead>\n",
       "    <tr style=\"text-align: right;\">\n",
       "      <th></th>\n",
       "      <th>review</th>\n",
       "      <th>sentiment</th>\n",
       "      <th>0</th>\n",
       "      <th>1</th>\n",
       "      <th>2</th>\n",
       "      <th>3</th>\n",
       "      <th>4</th>\n",
       "      <th>5</th>\n",
       "      <th>6</th>\n",
       "      <th>7</th>\n",
       "      <th>...</th>\n",
       "      <th>86</th>\n",
       "      <th>87</th>\n",
       "      <th>88</th>\n",
       "      <th>89</th>\n",
       "      <th>90</th>\n",
       "      <th>91</th>\n",
       "      <th>92</th>\n",
       "      <th>93</th>\n",
       "      <th>94</th>\n",
       "      <th>95</th>\n",
       "    </tr>\n",
       "  </thead>\n",
       "  <tbody>\n",
       "    <tr>\n",
       "      <th>0</th>\n",
       "      <td>i ve only seen this film once when it was show...</td>\n",
       "      <td>1</td>\n",
       "      <td>-0.118467</td>\n",
       "      <td>0.195702</td>\n",
       "      <td>-0.597526</td>\n",
       "      <td>-0.39677</td>\n",
       "      <td>0.819927</td>\n",
       "      <td>0.36538</td>\n",
       "      <td>1.392062</td>\n",
       "      <td>0.676347</td>\n",
       "      <td>...</td>\n",
       "      <td>0.488486</td>\n",
       "      <td>-0.319417</td>\n",
       "      <td>-0.309865</td>\n",
       "      <td>0.460245</td>\n",
       "      <td>0.895838</td>\n",
       "      <td>-0.729144</td>\n",
       "      <td>-0.712606</td>\n",
       "      <td>1.097118</td>\n",
       "      <td>-0.014551</td>\n",
       "      <td>0.606006</td>\n",
       "    </tr>\n",
       "  </tbody>\n",
       "</table>\n",
       "<p>1 rows × 98 columns</p>\n",
       "</div>"
      ],
      "text/plain": [
       "                                              review  sentiment         0  \\\n",
       "0  i ve only seen this film once when it was show...          1 -0.118467   \n",
       "\n",
       "          1         2        3         4        5         6         7  ...  \\\n",
       "0  0.195702 -0.597526 -0.39677  0.819927  0.36538  1.392062  0.676347  ...   \n",
       "\n",
       "         86        87        88        89        90        91        92  \\\n",
       "0  0.488486 -0.319417 -0.309865  0.460245  0.895838 -0.729144 -0.712606   \n",
       "\n",
       "         93        94        95  \n",
       "0  1.097118 -0.014551  0.606006  \n",
       "\n",
       "[1 rows x 98 columns]"
      ]
     },
     "execution_count": 43,
     "metadata": {},
     "output_type": "execute_result"
    }
   ],
   "source": [
    "# imported data: first entry\n",
    "df.head(1)"
   ]
  },
  {
   "cell_type": "code",
   "execution_count": 44,
   "metadata": {},
   "outputs": [
    {
     "data": {
      "text/plain": [
       "1    250\n",
       "0    250\n",
       "Name: sentiment, dtype: int64"
      ]
     },
     "execution_count": 44,
     "metadata": {},
     "output_type": "execute_result"
    }
   ],
   "source": [
    "# counts of rviews per sentiment value\n",
    "df.sentiment.value_counts()"
   ]
  },
  {
   "cell_type": "code",
   "execution_count": 45,
   "metadata": {},
   "outputs": [
    {
     "data": {
      "text/html": [
       "<div>\n",
       "<style scoped>\n",
       "    .dataframe tbody tr th:only-of-type {\n",
       "        vertical-align: middle;\n",
       "    }\n",
       "\n",
       "    .dataframe tbody tr th {\n",
       "        vertical-align: top;\n",
       "    }\n",
       "\n",
       "    .dataframe thead th {\n",
       "        text-align: right;\n",
       "    }\n",
       "</style>\n",
       "<table border=\"1\" class=\"dataframe\">\n",
       "  <thead>\n",
       "    <tr style=\"text-align: right;\">\n",
       "      <th></th>\n",
       "      <th>review</th>\n",
       "      <th>sentiment</th>\n",
       "      <th>word_count</th>\n",
       "    </tr>\n",
       "  </thead>\n",
       "  <tbody>\n",
       "    <tr>\n",
       "      <th>0</th>\n",
       "      <td>i ve only seen this film once when it was show...</td>\n",
       "      <td>1</td>\n",
       "      <td>144</td>\n",
       "    </tr>\n",
       "    <tr>\n",
       "      <th>1</th>\n",
       "      <td>disney the film name that once stood for all t...</td>\n",
       "      <td>1</td>\n",
       "      <td>922</td>\n",
       "    </tr>\n",
       "    <tr>\n",
       "      <th>2</th>\n",
       "      <td>this movie is the only movie to feature a scen...</td>\n",
       "      <td>1</td>\n",
       "      <td>77</td>\n",
       "    </tr>\n",
       "    <tr>\n",
       "      <th>3</th>\n",
       "      <td>the eternal jew der ewige jude does not have w...</td>\n",
       "      <td>0</td>\n",
       "      <td>562</td>\n",
       "    </tr>\n",
       "    <tr>\n",
       "      <th>4</th>\n",
       "      <td>this movie is just plain terrible poor john sa...</td>\n",
       "      <td>0</td>\n",
       "      <td>301</td>\n",
       "    </tr>\n",
       "  </tbody>\n",
       "</table>\n",
       "</div>"
      ],
      "text/plain": [
       "                                              review  sentiment  word_count\n",
       "0  i ve only seen this film once when it was show...          1         144\n",
       "1  disney the film name that once stood for all t...          1         922\n",
       "2  this movie is the only movie to feature a scen...          1          77\n",
       "3  the eternal jew der ewige jude does not have w...          0         562\n",
       "4  this movie is just plain terrible poor john sa...          0         301"
      ]
     },
     "execution_count": 45,
     "metadata": {},
     "output_type": "execute_result"
    }
   ],
   "source": [
    "# show distribution of review lenghts \n",
    "# we strip leading and trailing whitespaces and tokenize by whitespace\n",
    "df['word_count'] = df['review'].apply(lambda x: len(x.strip().split(\" \")))\n",
    "df[['review','sentiment', 'word_count']].head()"
   ]
  },
  {
   "cell_type": "code",
   "execution_count": 46,
   "metadata": {},
   "outputs": [
    {
     "name": "stdout",
     "output_type": "stream",
     "text": [
      "count     500.000000\n",
      "mean      228.182000\n",
      "std       172.093432\n",
      "min         6.000000\n",
      "25%       126.000000\n",
      "50%       170.500000\n",
      "75%       274.000000\n",
      "max      1032.000000\n",
      "Name: word_count, dtype: float64\n"
     ]
    }
   ],
   "source": [
    "# summary statistics of word counts\n",
    "print(df['word_count'].describe())"
   ]
  },
  {
   "cell_type": "code",
   "execution_count": 47,
   "metadata": {},
   "outputs": [
    {
     "data": {
      "image/png": "[encoded data removed]",
      "text/plain": [
       "<Figure size 432x288 with 1 Axes>"
      ]
     },
     "metadata": {
      "needs_background": "light"
     },
     "output_type": "display_data"
    }
   ],
   "source": [
    "# show histograms of word counts divided per sentiment\n",
    "from matplotlib import pyplot\n",
    "\n",
    "x = df[df['sentiment']==0].word_count\n",
    "y = df[df['sentiment']==1].word_count\n",
    "\n",
    "pyplot.hist(x, bins=50, alpha=0.5, label='negative sentiment reviews')\n",
    "pyplot.hist(y, bins=50, alpha=0.5, label='positive sentiment reviews')\n",
    "pyplot.legend(loc='upper right')\n",
    "pyplot.show()"
   ]
  },
  {
   "cell_type": "code",
   "execution_count": 48,
   "metadata": {},
   "outputs": [
    {
     "name": "stdout",
     "output_type": "stream",
     "text": [
      "count     250.000000\n",
      "mean      225.304000\n",
      "std       167.889365\n",
      "min         6.000000\n",
      "25%       128.000000\n",
      "50%       173.000000\n",
      "75%       273.250000\n",
      "max      1032.000000\n",
      "Name: word_count, dtype: float64\n",
      "count    250.000000\n",
      "mean     231.060000\n",
      "std      176.487301\n",
      "min       26.000000\n",
      "25%      125.000000\n",
      "50%      169.000000\n",
      "75%      274.000000\n",
      "max      995.000000\n",
      "Name: word_count, dtype: float64\n"
     ]
    }
   ],
   "source": [
    "# summary of distributions of word counts\n",
    "print(x.describe())\n",
    "print(y.describe())"
   ]
  },
  {
   "cell_type": "code",
   "execution_count": 49,
   "metadata": {},
   "outputs": [
    {
     "data": {
      "text/html": [
       "<div>\n",
       "<style scoped>\n",
       "    .dataframe tbody tr th:only-of-type {\n",
       "        vertical-align: middle;\n",
       "    }\n",
       "\n",
       "    .dataframe tbody tr th {\n",
       "        vertical-align: top;\n",
       "    }\n",
       "\n",
       "    .dataframe thead th {\n",
       "        text-align: right;\n",
       "    }\n",
       "</style>\n",
       "<table border=\"1\" class=\"dataframe\">\n",
       "  <thead>\n",
       "    <tr style=\"text-align: right;\">\n",
       "      <th></th>\n",
       "      <th>review</th>\n",
       "      <th>sentiment</th>\n",
       "      <th>0</th>\n",
       "      <th>1</th>\n",
       "      <th>2</th>\n",
       "      <th>3</th>\n",
       "      <th>4</th>\n",
       "      <th>5</th>\n",
       "      <th>6</th>\n",
       "      <th>7</th>\n",
       "      <th>...</th>\n",
       "      <th>87</th>\n",
       "      <th>88</th>\n",
       "      <th>89</th>\n",
       "      <th>90</th>\n",
       "      <th>91</th>\n",
       "      <th>92</th>\n",
       "      <th>93</th>\n",
       "      <th>94</th>\n",
       "      <th>95</th>\n",
       "      <th>word_count</th>\n",
       "    </tr>\n",
       "  </thead>\n",
       "  <tbody>\n",
       "    <tr>\n",
       "      <th>238</th>\n",
       "      <td>primary plot primary direction poor interpreta...</td>\n",
       "      <td>0</td>\n",
       "      <td>1.93245</td>\n",
       "      <td>2.434365</td>\n",
       "      <td>-1.642762</td>\n",
       "      <td>-0.635336</td>\n",
       "      <td>1.754666</td>\n",
       "      <td>0.09242</td>\n",
       "      <td>-0.156321</td>\n",
       "      <td>-0.168393</td>\n",
       "      <td>...</td>\n",
       "      <td>-2.497162</td>\n",
       "      <td>-1.856147</td>\n",
       "      <td>-0.388898</td>\n",
       "      <td>-0.19619</td>\n",
       "      <td>-0.678068</td>\n",
       "      <td>-0.620965</td>\n",
       "      <td>2.937752</td>\n",
       "      <td>0.061259</td>\n",
       "      <td>0.844795</td>\n",
       "      <td>6</td>\n",
       "    </tr>\n",
       "  </tbody>\n",
       "</table>\n",
       "<p>1 rows × 99 columns</p>\n",
       "</div>"
      ],
      "text/plain": [
       "                                                review  sentiment        0  \\\n",
       "238  primary plot primary direction poor interpreta...          0  1.93245   \n",
       "\n",
       "            1         2         3         4        5         6         7  ...  \\\n",
       "238  2.434365 -1.642762 -0.635336  1.754666  0.09242 -0.156321 -0.168393  ...   \n",
       "\n",
       "           87        88        89       90        91        92        93  \\\n",
       "238 -2.497162 -1.856147 -0.388898 -0.19619 -0.678068 -0.620965  2.937752   \n",
       "\n",
       "           94        95  word_count  \n",
       "238  0.061259  0.844795           6  \n",
       "\n",
       "[1 rows x 99 columns]"
      ]
     },
     "execution_count": 49,
     "metadata": {},
     "output_type": "execute_result"
    }
   ],
   "source": [
    "# some checks (e.g. word_counts=6 or 1550 or 2498 )\n",
    "df[df['word_count']==6]"
   ]
  },
  {
   "cell_type": "code",
   "execution_count": 50,
   "metadata": {},
   "outputs": [
    {
     "data": {
      "text/html": [
       "<div>\n",
       "<style scoped>\n",
       "    .dataframe tbody tr th:only-of-type {\n",
       "        vertical-align: middle;\n",
       "    }\n",
       "\n",
       "    .dataframe tbody tr th {\n",
       "        vertical-align: top;\n",
       "    }\n",
       "\n",
       "    .dataframe thead th {\n",
       "        text-align: right;\n",
       "    }\n",
       "</style>\n",
       "<table border=\"1\" class=\"dataframe\">\n",
       "  <thead>\n",
       "    <tr style=\"text-align: right;\">\n",
       "      <th></th>\n",
       "      <th>review</th>\n",
       "      <th>word_count</th>\n",
       "      <th>sentiment</th>\n",
       "      <th>avg_word</th>\n",
       "    </tr>\n",
       "  </thead>\n",
       "  <tbody>\n",
       "    <tr>\n",
       "      <th>0</th>\n",
       "      <td>i ve only seen this film once when it was show...</td>\n",
       "      <td>144</td>\n",
       "      <td>1</td>\n",
       "      <td>4.125000</td>\n",
       "    </tr>\n",
       "    <tr>\n",
       "      <th>1</th>\n",
       "      <td>disney the film name that once stood for all t...</td>\n",
       "      <td>922</td>\n",
       "      <td>1</td>\n",
       "      <td>4.364425</td>\n",
       "    </tr>\n",
       "    <tr>\n",
       "      <th>2</th>\n",
       "      <td>this movie is the only movie to feature a scen...</td>\n",
       "      <td>77</td>\n",
       "      <td>1</td>\n",
       "      <td>4.220779</td>\n",
       "    </tr>\n",
       "    <tr>\n",
       "      <th>3</th>\n",
       "      <td>the eternal jew der ewige jude does not have w...</td>\n",
       "      <td>562</td>\n",
       "      <td>0</td>\n",
       "      <td>4.765125</td>\n",
       "    </tr>\n",
       "    <tr>\n",
       "      <th>4</th>\n",
       "      <td>this movie is just plain terrible poor john sa...</td>\n",
       "      <td>301</td>\n",
       "      <td>0</td>\n",
       "      <td>3.943522</td>\n",
       "    </tr>\n",
       "  </tbody>\n",
       "</table>\n",
       "</div>"
      ],
      "text/plain": [
       "                                              review  word_count  sentiment  \\\n",
       "0  i ve only seen this film once when it was show...         144          1   \n",
       "1  disney the film name that once stood for all t...         922          1   \n",
       "2  this movie is the only movie to feature a scen...          77          1   \n",
       "3  the eternal jew der ewige jude does not have w...         562          0   \n",
       "4  this movie is just plain terrible poor john sa...         301          0   \n",
       "\n",
       "   avg_word  \n",
       "0  4.125000  \n",
       "1  4.364425  \n",
       "2  4.220779  \n",
       "3  4.765125  \n",
       "4  3.943522  "
      ]
     },
     "execution_count": 50,
     "metadata": {},
     "output_type": "execute_result"
    }
   ],
   "source": [
    "# average word length (again, we tokenize by whitespaces)\n",
    "def avg_word(sentence):\n",
    "  words = sentence.split()\n",
    "  return (sum(len(word) for word in words)/len(words))\n",
    "\n",
    "df['avg_word'] = df['review'].apply(lambda x: avg_word(x.strip()))\n",
    "df[['review','word_count', 'sentiment', 'avg_word']].head()"
   ]
  },
  {
   "cell_type": "code",
   "execution_count": 51,
   "metadata": {},
   "outputs": [
    {
     "name": "stdout",
     "output_type": "stream",
     "text": [
      "count    250.000000\n",
      "mean       4.292849\n",
      "std        0.365534\n",
      "min        3.500000\n",
      "25%        4.079142\n",
      "50%        4.295587\n",
      "75%        4.509106\n",
      "max        7.500000\n",
      "Name: avg_word, dtype: float64\n",
      "\n",
      "count    250.000000\n",
      "mean       4.316774\n",
      "std        0.340776\n",
      "min        3.385093\n",
      "25%        4.099108\n",
      "50%        4.295241\n",
      "75%        4.542389\n",
      "max        5.512195\n",
      "Name: avg_word, dtype: float64\n"
     ]
    }
   ],
   "source": [
    "# distributions of word lengths conditional per sentiment\n",
    "x = df[df['sentiment']==0].avg_word\n",
    "y = df[df['sentiment']==1].avg_word\n",
    "print(x.describe())\n",
    "print()\n",
    "print(y.describe())"
   ]
  },
  {
   "cell_type": "code",
   "execution_count": 52,
   "metadata": {},
   "outputs": [
    {
     "data": {
      "text/html": [
       "<div>\n",
       "<style scoped>\n",
       "    .dataframe tbody tr th:only-of-type {\n",
       "        vertical-align: middle;\n",
       "    }\n",
       "\n",
       "    .dataframe tbody tr th {\n",
       "        vertical-align: top;\n",
       "    }\n",
       "\n",
       "    .dataframe thead th {\n",
       "        text-align: right;\n",
       "    }\n",
       "</style>\n",
       "<table border=\"1\" class=\"dataframe\">\n",
       "  <thead>\n",
       "    <tr style=\"text-align: right;\">\n",
       "      <th></th>\n",
       "      <th>review</th>\n",
       "      <th>sentiment</th>\n",
       "      <th>0</th>\n",
       "      <th>1</th>\n",
       "      <th>2</th>\n",
       "      <th>3</th>\n",
       "      <th>4</th>\n",
       "      <th>5</th>\n",
       "      <th>6</th>\n",
       "      <th>7</th>\n",
       "      <th>...</th>\n",
       "      <th>88</th>\n",
       "      <th>89</th>\n",
       "      <th>90</th>\n",
       "      <th>91</th>\n",
       "      <th>92</th>\n",
       "      <th>93</th>\n",
       "      <th>94</th>\n",
       "      <th>95</th>\n",
       "      <th>word_count</th>\n",
       "      <th>avg_word</th>\n",
       "    </tr>\n",
       "  </thead>\n",
       "  <tbody>\n",
       "    <tr>\n",
       "      <th>238</th>\n",
       "      <td>primary plot primary direction poor interpreta...</td>\n",
       "      <td>0</td>\n",
       "      <td>1.93245</td>\n",
       "      <td>2.434365</td>\n",
       "      <td>-1.642762</td>\n",
       "      <td>-0.635336</td>\n",
       "      <td>1.754666</td>\n",
       "      <td>0.09242</td>\n",
       "      <td>-0.156321</td>\n",
       "      <td>-0.168393</td>\n",
       "      <td>...</td>\n",
       "      <td>-1.856147</td>\n",
       "      <td>-0.388898</td>\n",
       "      <td>-0.19619</td>\n",
       "      <td>-0.678068</td>\n",
       "      <td>-0.620965</td>\n",
       "      <td>2.937752</td>\n",
       "      <td>0.061259</td>\n",
       "      <td>0.844795</td>\n",
       "      <td>6</td>\n",
       "      <td>7.5</td>\n",
       "    </tr>\n",
       "  </tbody>\n",
       "</table>\n",
       "<p>1 rows × 100 columns</p>\n",
       "</div>"
      ],
      "text/plain": [
       "                                                review  sentiment        0  \\\n",
       "238  primary plot primary direction poor interpreta...          0  1.93245   \n",
       "\n",
       "            1         2         3         4        5         6         7  ...  \\\n",
       "238  2.434365 -1.642762 -0.635336  1.754666  0.09242 -0.156321 -0.168393  ...   \n",
       "\n",
       "           88        89       90        91        92        93        94  \\\n",
       "238 -1.856147 -0.388898 -0.19619 -0.678068 -0.620965  2.937752  0.061259   \n",
       "\n",
       "           95  word_count  avg_word  \n",
       "238  0.844795           6       7.5  \n",
       "\n",
       "[1 rows x 100 columns]"
      ]
     },
     "execution_count": 52,
     "metadata": {},
     "output_type": "execute_result"
    }
   ],
   "source": [
    "# some checks (e.g. avg_word>=7)\n",
    "df[df['avg_word']>=7]"
   ]
  },
  {
   "cell_type": "code",
   "execution_count": 53,
   "metadata": {},
   "outputs": [
    {
     "data": {
      "text/html": [
       "<div>\n",
       "<style scoped>\n",
       "    .dataframe tbody tr th:only-of-type {\n",
       "        vertical-align: middle;\n",
       "    }\n",
       "\n",
       "    .dataframe tbody tr th {\n",
       "        vertical-align: top;\n",
       "    }\n",
       "\n",
       "    .dataframe thead th {\n",
       "        text-align: right;\n",
       "    }\n",
       "</style>\n",
       "<table border=\"1\" class=\"dataframe\">\n",
       "  <thead>\n",
       "    <tr style=\"text-align: right;\">\n",
       "      <th></th>\n",
       "      <th>review</th>\n",
       "      <th>word_count</th>\n",
       "      <th>sentiment</th>\n",
       "      <th>avg_word</th>\n",
       "      <th>stopwords</th>\n",
       "    </tr>\n",
       "  </thead>\n",
       "  <tbody>\n",
       "    <tr>\n",
       "      <th>0</th>\n",
       "      <td>i ve only seen this film once when it was show...</td>\n",
       "      <td>144</td>\n",
       "      <td>1</td>\n",
       "      <td>4.125000</td>\n",
       "      <td>79</td>\n",
       "    </tr>\n",
       "    <tr>\n",
       "      <th>1</th>\n",
       "      <td>disney the film name that once stood for all t...</td>\n",
       "      <td>922</td>\n",
       "      <td>1</td>\n",
       "      <td>4.364425</td>\n",
       "      <td>461</td>\n",
       "    </tr>\n",
       "    <tr>\n",
       "      <th>2</th>\n",
       "      <td>this movie is the only movie to feature a scen...</td>\n",
       "      <td>77</td>\n",
       "      <td>1</td>\n",
       "      <td>4.220779</td>\n",
       "      <td>32</td>\n",
       "    </tr>\n",
       "    <tr>\n",
       "      <th>3</th>\n",
       "      <td>the eternal jew der ewige jude does not have w...</td>\n",
       "      <td>562</td>\n",
       "      <td>0</td>\n",
       "      <td>4.765125</td>\n",
       "      <td>253</td>\n",
       "    </tr>\n",
       "    <tr>\n",
       "      <th>4</th>\n",
       "      <td>this movie is just plain terrible poor john sa...</td>\n",
       "      <td>301</td>\n",
       "      <td>0</td>\n",
       "      <td>3.943522</td>\n",
       "      <td>161</td>\n",
       "    </tr>\n",
       "  </tbody>\n",
       "</table>\n",
       "</div>"
      ],
      "text/plain": [
       "                                              review  word_count  sentiment  \\\n",
       "0  i ve only seen this film once when it was show...         144          1   \n",
       "1  disney the film name that once stood for all t...         922          1   \n",
       "2  this movie is the only movie to feature a scen...          77          1   \n",
       "3  the eternal jew der ewige jude does not have w...         562          0   \n",
       "4  this movie is just plain terrible poor john sa...         301          0   \n",
       "\n",
       "   avg_word  stopwords  \n",
       "0  4.125000         79  \n",
       "1  4.364425        461  \n",
       "2  4.220779         32  \n",
       "3  4.765125        253  \n",
       "4  3.943522        161  "
      ]
     },
     "execution_count": 53,
     "metadata": {},
     "output_type": "execute_result"
    }
   ],
   "source": [
    "# stop words statistics - stopword from NLTK\n",
    "from nltk.corpus import stopwords\n",
    "stop = stopwords.words('english')\n",
    "\n",
    "df['stopwords'] = df['review'].apply(lambda x: len([x for x in x.strip().split() if x in stop]))\n",
    "df[['review','word_count', 'sentiment', 'avg_word', 'stopwords']].head()"
   ]
  },
  {
   "cell_type": "code",
   "execution_count": 54,
   "metadata": {},
   "outputs": [
    {
     "name": "stdout",
     "output_type": "stream",
     "text": [
      "count    250.00000\n",
      "mean     110.61600\n",
      "std       82.60588\n",
      "min        0.00000\n",
      "25%       62.00000\n",
      "50%       85.00000\n",
      "75%      136.00000\n",
      "max      523.00000\n",
      "Name: stopwords, dtype: float64\n",
      "\n",
      "count    250.000000\n",
      "mean     113.608000\n",
      "std       86.026978\n",
      "min        8.000000\n",
      "25%       62.000000\n",
      "50%       87.000000\n",
      "75%      130.750000\n",
      "max      491.000000\n",
      "Name: stopwords, dtype: float64\n"
     ]
    }
   ],
   "source": [
    "# distributions of stop words conditional per sentiment\n",
    "x = df[df['sentiment']==0].stopwords\n",
    "y = df[df['sentiment']==1].stopwords\n",
    "print(x.describe())\n",
    "print()\n",
    "print(y.describe())"
   ]
  },
  {
   "cell_type": "code",
   "execution_count": 55,
   "metadata": {},
   "outputs": [
    {
     "data": {
      "text/html": [
       "<div>\n",
       "<style scoped>\n",
       "    .dataframe tbody tr th:only-of-type {\n",
       "        vertical-align: middle;\n",
       "    }\n",
       "\n",
       "    .dataframe tbody tr th {\n",
       "        vertical-align: top;\n",
       "    }\n",
       "\n",
       "    .dataframe thead th {\n",
       "        text-align: right;\n",
       "    }\n",
       "</style>\n",
       "<table border=\"1\" class=\"dataframe\">\n",
       "  <thead>\n",
       "    <tr style=\"text-align: right;\">\n",
       "      <th></th>\n",
       "      <th>review</th>\n",
       "      <th>sentiment</th>\n",
       "      <th>0</th>\n",
       "      <th>1</th>\n",
       "      <th>2</th>\n",
       "      <th>3</th>\n",
       "      <th>4</th>\n",
       "      <th>5</th>\n",
       "      <th>6</th>\n",
       "      <th>7</th>\n",
       "      <th>...</th>\n",
       "      <th>89</th>\n",
       "      <th>90</th>\n",
       "      <th>91</th>\n",
       "      <th>92</th>\n",
       "      <th>93</th>\n",
       "      <th>94</th>\n",
       "      <th>95</th>\n",
       "      <th>word_count</th>\n",
       "      <th>avg_word</th>\n",
       "      <th>stopwords</th>\n",
       "    </tr>\n",
       "  </thead>\n",
       "  <tbody>\n",
       "    <tr>\n",
       "      <th>238</th>\n",
       "      <td>primary plot primary direction poor interpreta...</td>\n",
       "      <td>0</td>\n",
       "      <td>1.93245</td>\n",
       "      <td>2.434365</td>\n",
       "      <td>-1.642762</td>\n",
       "      <td>-0.635336</td>\n",
       "      <td>1.754666</td>\n",
       "      <td>0.09242</td>\n",
       "      <td>-0.156321</td>\n",
       "      <td>-0.168393</td>\n",
       "      <td>...</td>\n",
       "      <td>-0.388898</td>\n",
       "      <td>-0.19619</td>\n",
       "      <td>-0.678068</td>\n",
       "      <td>-0.620965</td>\n",
       "      <td>2.937752</td>\n",
       "      <td>0.061259</td>\n",
       "      <td>0.844795</td>\n",
       "      <td>6</td>\n",
       "      <td>7.5</td>\n",
       "      <td>0</td>\n",
       "    </tr>\n",
       "  </tbody>\n",
       "</table>\n",
       "<p>1 rows × 101 columns</p>\n",
       "</div>"
      ],
      "text/plain": [
       "                                                review  sentiment        0  \\\n",
       "238  primary plot primary direction poor interpreta...          0  1.93245   \n",
       "\n",
       "            1         2         3         4        5         6         7  ...  \\\n",
       "238  2.434365 -1.642762 -0.635336  1.754666  0.09242 -0.156321 -0.168393  ...   \n",
       "\n",
       "           89       90        91        92        93        94        95  \\\n",
       "238 -0.388898 -0.19619 -0.678068 -0.620965  2.937752  0.061259  0.844795   \n",
       "\n",
       "     word_count  avg_word  stopwords  \n",
       "238           6       7.5          0  \n",
       "\n",
       "[1 rows x 101 columns]"
      ]
     },
     "execution_count": 55,
     "metadata": {},
     "output_type": "execute_result"
    }
   ],
   "source": [
    "# some checks (e.g. stopwords==0)\n",
    "df[df['stopwords']==0]"
   ]
  },
  {
   "cell_type": "markdown",
   "metadata": {},
   "source": [
    "# 5. Machine Learning<a name=\"ML\"></a>"
   ]
  },
  {
   "cell_type": "markdown",
   "metadata": {},
   "source": [
    "## 5.1. Adaptive boosting (ADA)<a name=\"ADA\"></a>"
   ]
  },
  {
   "cell_type": "markdown",
   "metadata": {},
   "source": [
    "### 5.1.1. Bag-of-words<a name=\"ADA_BOW\"></a>"
   ]
  },
  {
   "cell_type": "code",
   "execution_count": 39,
   "metadata": {},
   "outputs": [
    {
     "name": "stdout",
     "output_type": "stream",
     "text": [
      "---------------------\n",
      "---------------------\n",
      "---------------------\n",
      "---------------------\n",
      "X_train shape check:  (400,)\n",
      "X_test shape check:  (100,)\n",
      "---------------------\n",
      "---------------------\n",
      "---------------------\n",
      "---------------------\n"
     ]
    }
   ],
   "source": [
    "# loading Python packages\n",
    "#########################\n",
    "import time\n",
    "from sklearn.utils import shuffle\n",
    "\n",
    "from sklearn.model_selection import train_test_split\n",
    "from sklearn.model_selection import StratifiedKFold\n",
    "from sklearn.model_selection import GridSearchCV\n",
    "#调参用的\n",
    "#https://blog.csdn.net/weixin_41988628/article/details/83098130\n",
    "#GridSearchCV 网格搜索\n",
    "\n",
    "from sklearn.metrics import roc_curve\n",
    "from sklearn.metrics import auc \n",
    "from sklearn.metrics import roc_auc_score\n",
    "from sklearn.metrics import accuracy_score\n",
    "\n",
    "# data preparation\n",
    "###########################################\n",
    "\n",
    "# data import \n",
    "import pandas as pd\n",
    "\n",
    "path = './toymdb/data_dedandprep.csv'  # insert path to deduplicated and preprocessed data\n",
    "df = pd.read_csv(path)     \n",
    "\n",
    "# shuffling data\n",
    "import numpy as np\n",
    "\n",
    "np.random.seed(0)\n",
    "df = df.reindex(np.random.permutation(df.index))\n",
    "\n",
    "# introducing the stopwords\n",
    "###########################################\n",
    "\n",
    "# stopwords\n",
    "import nltk\n",
    "from nltk.corpus import stopwords\n",
    "stopwords = list(set(stopwords.words('english')))\n",
    "\n",
    "# train vs. test: we already shuffled data -80/20 split\n",
    "##########################################\n",
    "\n",
    "X_train = df.head(400).review\n",
    "y_train = df.head(400).sentiment\n",
    "\n",
    "X_test = df.tail(100).review\n",
    "y_test = df.tail(100).sentiment\n",
    "\n",
    "print('---------------------')\n",
    "print('---------------------')\n",
    "print('---------------------')\n",
    "print('---------------------')\n",
    "print('X_train shape check: ', X_train.shape)\n",
    "print('X_test shape check: ', X_test.shape)\n",
    "print('---------------------')\n",
    "print('---------------------')\n",
    "print('---------------------')\n",
    "print('---------------------')\n",
    "\n",
    "# GridSearch()\n",
    "###########################################\n",
    "\n",
    "from sklearn.pipeline import Pipeline\n",
    "from sklearn.tree import DecisionTreeClassifier\n",
    "from sklearn.ensemble import AdaBoostClassifier\n",
    "from sklearn.feature_extraction.text import TfidfVectorizer\n",
    "from sklearn.model_selection import GridSearchCV\n",
    "\n",
    "tfidf = TfidfVectorizer(strip_accents=None,\n",
    "                        lowercase=False,\n",
    "                        preprocessor=None)\n",
    "#定义tfidf函数，目的是将文本转化为tfidf向量，在该模型中是pipeline的第一步\n",
    "\n",
    "param_grid = {'vect__ngram_range': [(1, 1)],           # choose (1, 2) to compute 2-grams\n",
    "              'vect__stop_words': [stopwords, None],    #表示使用停用词和不使用停用词两种情况\n",
    "              'vect__max_df': [1.0, 0.1, 0.3, 0.5],     #max_df用于删除过于频繁出现的术语,也称为“语料库特定的停用词”.例如：\n",
    "                                                        #max_df = 0.50表示“忽略出现在50％以上文档中的术语”\n",
    "              'vect__max_features': [None, 400],    #1000改为400                                        \n",
    "              'clf__n_estimators': [10, 20, 30, 40], #[100, 200, 300, 400]改为[10, 20, 30, 40]\n",
    "              #该参数表示基分类器提升（循环）次数，默认是50次，这个值过大，模型容易过拟合；值过小，模型容易欠拟合\n",
    "              'clf__learning_rate': [0.001, 0.01, 0.1] #去掉1.0的值 减少选择数\n",
    "              }\n",
    "\n",
    "tree = DecisionTreeClassifier(max_depth=5)\n",
    "\n",
    "lr_tfidf = Pipeline([('vect', tfidf),\n",
    "                     ('clf', AdaBoostClassifier(base_estimator=tree))]\n",
    "                    )\n",
    "#pipeline管道机制使用方法：\n",
    "#流水线的输入为一连串的数据挖掘步骤，其中最后一步必须是估计器（Estimator），可理解成分类器\n",
    "#前几步是转换器（Transformer）。输入的数据集经过转换器的处理后，输出的结果作为下一步的输入。\n",
    "#最后，用位于流水线最后一步的估计器对数据进行分类。\n",
    "\n",
    "# on cross-validation parameters\n",
    "cv = StratifiedKFold(n_splits=5, \n",
    "                     shuffle=False\n",
    "                     )\n",
    "#交叉验证参数\n",
    "\n",
    "gs_lr_tfidf = GridSearchCV(lr_tfidf, param_grid,\n",
    "                           scoring='roc_auc',\n",
    "                           cv=cv, \n",
    "                           n_jobs=-1) \n",
    "#第一个参数是estimator，即所使用的分类器\n",
    "#第二个参数是param_grid，值为字典或者列表，表示需要最优化的参数的取值\n",
    "#第三个参数是scoring，模型评价标准，这里选择了roc_auc\n",
    "#第四个参数是cv，交叉验证参数。\n",
    "#第五个参数是n_jobs，并行线程数，取-1表示跟CPU核数一致\n"
   ]
  },
  {
   "cell_type": "code",
   "execution_count": 40,
   "metadata": {},
   "outputs": [
    {
     "name": "stdout",
     "output_type": "stream",
     "text": [
      "Running time: 298.30215287208557 Seconds\n",
      "---------------------\n",
      "---------------------\n",
      "---------------------\n",
      "---------------------\n",
      "Best parameter set: {'clf__learning_rate': 0.01, 'clf__n_estimators': 10, 'vect__max_df': 0.1, 'vect__max_features': None, 'vect__ngram_range': (1, 1), 'vect__stop_words': ['all', 'more', \"hasn't\", 'am', 'does', 'he', 'other', 'hadn', 'm', 'hers', 'there', 'down', 'but', 'with', 's', 'will', \"mightn't\", 'be', 'when', 'where', 'you', 'yourself', 'll', \"weren't\", 'doing', 'so', 'what', 'those', 'whom', 'weren', 'that', 'now', 'again', 'we', 'once', \"should've\", 'o', 'haven', 'through', 'which', 'can', 'themselves', 'this', 'no', 'just', 'has', 'being', 'up', 'wouldn', 'ma', 'than', 'myself', 'having', 'against', 'herself', 'our', 'to', 'between', 'his', 'by', 'about', 'mightn', \"mustn't\", 'him', 'both', 'each', 'an', \"won't\", 'doesn', 'itself', 'had', \"don't\", 'too', 'while', 'been', 'not', 'her', \"you've\", 'didn', 'my', 'was', 'yourselves', 'shan', \"shouldn't\", 'isn', 'shouldn', 'and', 'ain', 'above', \"doesn't\", 'she', \"that'll\", 'ours', \"you'd\", 'are', 're', 'out', 'very', 'after', 'such', 'their', 'did', \"didn't\", 'ourselves', 'who', 'do', 't', 've', 'from', 'these', 'further', 'couldn', 'until', 'then', 'nor', 'your', \"haven't\", \"shan't\", 'why', 'for', 'on', 'won', 'only', 'if', 'same', \"couldn't\", 'in', 'how', 'should', 'y', 'because', 'here', 'under', 'me', 'few', 'have', 'over', 'aren', 'hasn', 'yours', 'were', 'wasn', 'they', 'any', 'during', 'them', 'some', 'i', 'into', \"wasn't\", 'at', 'below', \"aren't\", 'don', 'himself', 'it', 'the', \"she's\", 'of', 'most', 'off', \"it's\", 'or', 'mustn', \"isn't\", 'as', \"hadn't\", 'is', 'a', 'theirs', \"you're\", 'd', 'own', \"you'll\", \"needn't\", \"wouldn't\", 'needn', 'its', 'before']} \n",
      "---------------------\n",
      "---------------------\n",
      "---------------------\n",
      "---------------------\n",
      "Test AUC: 0.714\n",
      "Test Accuracy: 0.680\n",
      "---------------------\n",
      "---------------------\n",
      "---------------------\n",
      "---------------------\n"
     ]
    }
   ],
   "source": [
    "# running the grid\n",
    "###########################################\n",
    "start=time.time()\n",
    "gs_lr_tfidf.fit(X_train, y_train)\n",
    "end=time.time()\n",
    "print('Running time: %s Seconds'%(end-start))\n",
    "# best estimator - test performance\n",
    "###########################################\n",
    "\n",
    "clf_b = gs_lr_tfidf.best_estimator_\n",
    "y_pred_proba = clf_b.predict_proba(X_test)\n",
    "y_pred = clf_b.predict(X_test)\n",
    "\n",
    "# AUC on test data\n",
    "auc_res=roc_auc_score(y_test, y_pred_proba[:, 1])\n",
    "\n",
    "# Accuracy on test data\n",
    "acc = accuracy_score(y_test, y_pred)\n",
    "\n",
    "# collecting results\n",
    "###########################################\n",
    "\n",
    "print('---------------------')\n",
    "print('---------------------')\n",
    "print('---------------------')\n",
    "print('---------------------')\n",
    "print('Best parameter set: %s ' % gs_lr_tfidf.best_params_)\n",
    "print('---------------------')\n",
    "print('---------------------')\n",
    "print('---------------------')\n",
    "print('---------------------')\n",
    "print('Test AUC: %.3f' % auc_res)\n",
    "print('Test Accuracy: %.3f' % acc)\n",
    "print('---------------------')\n",
    "print('---------------------')\n",
    "print('---------------------')\n",
    "print('---------------------')\n"
   ]
  },
  {
   "cell_type": "markdown",
   "metadata": {},
   "source": [
    "### 5.1.2. Bag-of-POS<a name=\"ADA_BOP\"></a>"
   ]
  },
  {
   "cell_type": "markdown",
   "metadata": {},
   "source": [
    "跟5.1.1不同的地方在于，5.1.2输入的是data_POStagged.csv数据\n",
    "即5.1.1用文本数据生成tfidf向量，5.1.2采用词性序生成tfidf向量作为AdaBoost的分类依据\n",
    "从原理上看，POS数据损失了部分信息"
   ]
  },
  {
   "cell_type": "code",
   "execution_count": 63,
   "metadata": {},
   "outputs": [
    {
     "name": "stdout",
     "output_type": "stream",
     "text": [
      "---------------------\n",
      "---------------------\n",
      "---------------------\n",
      "---------------------\n",
      "X_train shape check:  (400,)\n",
      "X_test shape check:  (100,)\n",
      "---------------------\n",
      "---------------------\n",
      "---------------------\n",
      "---------------------\n",
      "Running time: 12.423156261444092 Seconds\n",
      "---------------------\n",
      "---------------------\n",
      "---------------------\n",
      "---------------------\n",
      "Best parameter set: {'clf__learning_rate': 0.001, 'clf__n_estimators': 30, 'vect__ngram_range': (1, 1)} \n",
      "---------------------\n",
      "---------------------\n",
      "---------------------\n",
      "---------------------\n",
      "Test AUC: 0.487\n",
      "Test Accuracy: 0.500\n",
      "---------------------\n",
      "---------------------\n",
      "---------------------\n",
      "---------------------\n"
     ]
    }
   ],
   "source": [
    "# loading Python packages\n",
    "#########################\n",
    "\n",
    "from sklearn.utils import shuffle\n",
    "\n",
    "from sklearn.model_selection import train_test_split\n",
    "from sklearn.model_selection import StratifiedKFold\n",
    "from sklearn.model_selection import GridSearchCV\n",
    "\n",
    "from sklearn.metrics import roc_curve\n",
    "from sklearn.metrics import auc \n",
    "from sklearn.metrics import roc_auc_score\n",
    "from sklearn.metrics import accuracy_score\n",
    "\n",
    "# data preparation\n",
    "###########################################\n",
    "\n",
    "# data import\n",
    "import pandas as pd\n",
    "\n",
    "path = './toymdb/data_POStagged.csv'  \n",
    "# insert path to data with POS-tags\n",
    "df = pd.read_csv(path)\n",
    "\n",
    "# shuffling data\n",
    "import numpy as np\n",
    "\n",
    "np.random.seed(0)\n",
    "df = df.reindex(np.random.permutation(df.index))\n",
    "\n",
    "# train vs. test: we already shuffled data -80/20 split\n",
    "##########################################\n",
    "\n",
    "X_train = df.head(400).text_pos\n",
    "y_train = df.head(400).sentiment\n",
    "\n",
    "X_test = df.tail(100).text_pos\n",
    "y_test = df.tail(100).sentiment\n",
    "\n",
    "print('---------------------')\n",
    "print('---------------------')\n",
    "print('---------------------')\n",
    "print('---------------------')\n",
    "print('X_train shape check: ', X_train.shape)\n",
    "print('X_test shape check: ', X_test.shape)\n",
    "print('---------------------')\n",
    "print('---------------------')\n",
    "print('---------------------')\n",
    "print('---------------------')\n",
    "\n",
    "# GridSearch()\n",
    "###########################################\n",
    "\n",
    "from sklearn.pipeline import Pipeline\n",
    "from sklearn.tree import DecisionTreeClassifier\n",
    "from sklearn.ensemble import AdaBoostClassifier\n",
    "from sklearn.feature_extraction.text import TfidfVectorizer\n",
    "from sklearn.model_selection import GridSearchCV\n",
    "\n",
    "tfidf = TfidfVectorizer(strip_accents=None,\n",
    "                        lowercase=False,\n",
    "                        preprocessor=None)\n",
    "\n",
    "param_grid = {'vect__ngram_range': [(1, 1)],               # we consider only 1-gram POS (for 2-grams: (1,2))\n",
    "              'clf__n_estimators': [10, 20, 30, 40],\n",
    "              'clf__learning_rate': [0.001, 0.01, 0.1]}\n",
    "\n",
    "tree = DecisionTreeClassifier(max_depth=5)\n",
    "\n",
    "lr_tfidf = Pipeline([('vect', tfidf),\n",
    "                     ('clf', AdaBoostClassifier(base_estimator=tree))]\n",
    "                    )\n",
    "\n",
    "# on cross-validation parameters\n",
    "cv = StratifiedKFold(n_splits=5, \n",
    "                     shuffle=False\n",
    "                     )\n",
    "\n",
    "gs_lr_tfidf = GridSearchCV(lr_tfidf, param_grid,\n",
    "                           scoring='roc_auc',\n",
    "                           cv=cv, \n",
    "                           n_jobs=-1)                        # insert the number of jobs, according to the used machine\n",
    "\n",
    "# running the grid\n",
    "###########################################\n",
    "start=time.time()\n",
    "gs_lr_tfidf.fit(X_train, y_train)\n",
    "end=time.time()\n",
    "print('Running time: %s Seconds'%(end-start))\n",
    "\n",
    "# best estimator - test performance\n",
    "###########################################\n",
    "\n",
    "clf_b = gs_lr_tfidf.best_estimator_\n",
    "y_pred_proba = clf_b.predict_proba(X_test)\n",
    "y_pred = clf_b.predict(X_test)\n",
    "\n",
    "# AUC on test data\n",
    "auc_res=roc_auc_score(y_test, y_pred_proba[:, 1])\n",
    "\n",
    "# Accuracy on test data\n",
    "acc = accuracy_score(y_test, y_pred)\n",
    "\n",
    "# collecting results\n",
    "###########################################\n",
    "\n",
    "print('---------------------')\n",
    "print('---------------------')\n",
    "print('---------------------')\n",
    "print('---------------------')\n",
    "print('Best parameter set: %s ' % gs_lr_tfidf.best_params_)\n",
    "print('---------------------')\n",
    "print('---------------------')\n",
    "print('---------------------')\n",
    "print('---------------------')\n",
    "print('Test AUC: %.3f' % auc_res)\n",
    "print('Test Accuracy: %.3f' % acc)\n",
    "print('---------------------')\n",
    "print('---------------------')\n",
    "print('---------------------')\n",
    "print('---------------------')"
   ]
  },
  {
   "cell_type": "markdown",
   "metadata": {},
   "source": [
    "### 5.1.3. Embeddings<a name=\"ADA_E\"></a>"
   ]
  },
  {
   "cell_type": "markdown",
   "metadata": {},
   "source": [
    "和前面两种方法不一样，Embeddings方法用的是3.4.2 中根据en_core_web_sm模型得到的词向量数据，所以在pipline中不需要再对输入数据做处理，直接用AdaBoostClassifier进行拟合即可"
   ]
  },
  {
   "cell_type": "code",
   "execution_count": 64,
   "metadata": {},
   "outputs": [
    {
     "name": "stdout",
     "output_type": "stream",
     "text": [
      "---------------------\n",
      "---------------------\n",
      "---------------------\n",
      "---------------------\n",
      "X_train shape check:  (400, 96)\n",
      "X_test shape check:  (100, 96)\n",
      "---------------------\n",
      "---------------------\n",
      "---------------------\n",
      "---------------------\n",
      "Running time: 13.306761026382446 Seconds\n",
      "---------------------\n",
      "---------------------\n",
      "---------------------\n",
      "---------------------\n",
      "Best parameter set: {'clf__learning_rate': 0.001, 'clf__n_estimators': 10} \n",
      "---------------------\n",
      "---------------------\n",
      "---------------------\n",
      "---------------------\n",
      "Test AUC: 0.438\n",
      "Test Accuracy: 0.460\n",
      "---------------------\n",
      "---------------------\n",
      "---------------------\n",
      "---------------------\n"
     ]
    }
   ],
   "source": [
    "# loading Python packages\n",
    "#########################\n",
    "\n",
    "from sklearn.utils import shuffle\n",
    "\n",
    "from sklearn.model_selection import train_test_split\n",
    "from sklearn.model_selection import StratifiedKFold\n",
    "from sklearn.model_selection import GridSearchCV\n",
    "\n",
    "from sklearn.metrics import roc_curve\n",
    "from sklearn.metrics import auc \n",
    "from sklearn.metrics import roc_auc_score\n",
    "from sklearn.metrics import accuracy_score\n",
    "\n",
    "# data preparation\n",
    "###########################################\n",
    "\n",
    "# data import\n",
    "import pandas as pd\n",
    "\n",
    "path = './toymdb/data_dedandprep.csv'  \n",
    "# insert path to data with pre-trained word embeddings\n",
    "df = pd.read_csv(path)\n",
    "\n",
    "# shuffling data\n",
    "import numpy as np\n",
    "\n",
    "np.random.seed(0)\n",
    "df = df.reindex(np.random.permutation(df.index))\n",
    "\n",
    "# train vs. test: we already shuffled data -80/20 split - drop the variables\n",
    "############################################################################\n",
    "\n",
    "X_train = df.drop(columns=['review', 'sentiment']).head(400)    # we use only the 300 embeddings\n",
    "y_train = df.head(400).sentiment\n",
    "\n",
    "X_test = df.drop(columns=['review', 'sentiment']).tail(100)      # we use only the 300 embeddings\n",
    "y_test = df.tail(100).sentiment\n",
    "\n",
    "print('---------------------')\n",
    "print('---------------------')\n",
    "print('---------------------')\n",
    "print('---------------------')\n",
    "print('X_train shape check: ', X_train.shape)\n",
    "print('X_test shape check: ', X_test.shape)\n",
    "print('---------------------')\n",
    "print('---------------------')\n",
    "print('---------------------')\n",
    "print('---------------------')\n",
    "\n",
    "# GridSearch()\n",
    "###########################################\n",
    "\n",
    "from sklearn.pipeline import Pipeline\n",
    "from sklearn.tree import DecisionTreeClassifier\n",
    "from sklearn.ensemble import AdaBoostClassifier\n",
    "from sklearn.model_selection import GridSearchCV\n",
    "\n",
    "param_grid = {'clf__n_estimators': [10, 20, 30, 40],\n",
    "              'clf__learning_rate': [0.001, 0.01, 0.1]}\n",
    "\n",
    "# extended parameter grid (Table 6, Section 6.4.5 in the tutorial)\n",
    "# param_grid = {'clf__n_estimators': [100, 200, 300, 400, 500, 700, 900, 1000],\n",
    "#              'clf__learning_rate': [0.001, 0.01, 0.1, 1.0]}\n",
    "\n",
    "tree = DecisionTreeClassifier(max_depth=5)\n",
    "\n",
    "pipe = Pipeline([('clf', AdaBoostClassifier(base_estimator=tree))])\n",
    "\n",
    "# on cross-validation parameters\n",
    "cv = StratifiedKFold(n_splits=5, \n",
    "                     shuffle=False\n",
    "                     )\n",
    "\n",
    "gs_lr_tfidf = GridSearchCV(pipe, param_grid,\n",
    "                           scoring='accuracy',\n",
    "                           cv=cv, \n",
    "                           n_jobs=-1)                        # insert the number of jobs, according to the used machine\n",
    "\n",
    "# running the grid\n",
    "###########################################\n",
    "start=time.time()\n",
    "\n",
    "gs_lr_tfidf.fit(X_train, y_train)\n",
    "\n",
    "end=time.time()\n",
    "print('Running time: %s Seconds'%(end-start))\n",
    "# best estimator - test performance\n",
    "###########################################\n",
    "\n",
    "clf_b = gs_lr_tfidf.best_estimator_\n",
    "y_pred_proba = clf_b.predict_proba(X_test)\n",
    "y_pred = clf_b.predict(X_test)\n",
    "\n",
    "# AUC on test data\n",
    "auc_res=roc_auc_score(y_test, y_pred_proba[:, 1])\n",
    "\n",
    "# Accuracy on test data\n",
    "acc = accuracy_score(y_test, y_pred)\n",
    "\n",
    "# collecting results\n",
    "###########################################\n",
    "\n",
    "print('---------------------')\n",
    "print('---------------------')\n",
    "print('---------------------')\n",
    "print('---------------------')\n",
    "print('Best parameter set: %s ' % gs_lr_tfidf.best_params_)\n",
    "print('---------------------')\n",
    "print('---------------------')\n",
    "print('---------------------')\n",
    "print('---------------------')\n",
    "print('Test AUC: %.3f' % auc_res)\n",
    "print('Test Accuracy: %.3f' % acc)\n",
    "print('---------------------')\n",
    "print('---------------------')\n",
    "print('---------------------')\n",
    "print('---------------------')"
   ]
  },
  {
   "cell_type": "markdown",
   "metadata": {},
   "source": [
    "## 5.2. Random Forests (RF)<a name=\"RF\"></a>"
   ]
  },
  {
   "cell_type": "markdown",
   "metadata": {},
   "source": [
    "### 5.2.1. Bag-of-words<a name=\"RF_BOW\"></a>"
   ]
  },
  {
   "cell_type": "code",
   "execution_count": 65,
   "metadata": {},
   "outputs": [
    {
     "name": "stdout",
     "output_type": "stream",
     "text": [
      "---------------------\n",
      "---------------------\n",
      "---------------------\n",
      "---------------------\n",
      "X_train shape check:  (400,)\n",
      "X_test shape check:  (100,)\n",
      "---------------------\n",
      "---------------------\n",
      "---------------------\n",
      "---------------------\n",
      "Running time: 96.45190691947937 Seconds\n",
      "---------------------\n",
      "---------------------\n",
      "---------------------\n",
      "---------------------\n",
      "Best parameter set: {'clf__max_depth': 10, 'clf__n_estimators': 40, 'vect__max_df': 0.5, 'vect__max_features': 400, 'vect__ngram_range': (1, 1), 'vect__stop_words': ['over', \"that'll\", 'their', 'because', 've', 'other', 'and', 'after', 'all', 'shouldn', \"hasn't\", \"isn't\", 'yours', 'mustn', 'd', \"should've\", 'than', 'have', 'didn', \"haven't\", 'who', 'themselves', 'further', 'we', 'few', 'on', 'has', \"wouldn't\", 'above', 'been', \"won't\", 'an', 'between', 'yourself', 'myself', 'them', 'most', 'then', 'under', 'through', 'here', 'this', \"she's\", \"mustn't\", \"you'll\", 'weren', 'where', 'very', 'if', 'against', 'herself', 'it', 'or', 'its', 'out', 'once', 'wasn', \"you'd\", 'aren', 'these', 'up', 'my', 'isn', 'what', 'can', 'just', 'should', \"couldn't\", 'our', 'each', 'she', 'same', 'such', 'does', 'her', 'haven', 'nor', \"shan't\", 'from', 'm', \"don't\", 'o', 'while', 'mightn', 'ourselves', 'are', \"it's\", 'his', 'off', 'hasn', 'which', 'being', 'be', 'into', 'why', 'theirs', 'at', 'that', 'doesn', 'wouldn', 'your', 'some', 'me', 'was', 'both', 'only', 'no', \"you're\", 'himself', 't', 'own', \"weren't\", 'ain', 'had', 'hers', 're', 'until', 'couldn', \"you've\", 'did', 'by', 'before', 'too', 'whom', 'ours', \"mightn't\", 'don', 'were', 'yourselves', 'the', 'about', \"shouldn't\", \"didn't\", \"needn't\", 'how', 'those', 'during', 'y', 'any', 'in', \"hadn't\", 'down', 'am', 'he', 'for', 'having', 'they', 'as', 'hadn', \"doesn't\", 'needn', \"wasn't\", 'so', 'to', 'you', 'i', 'will', \"aren't\", 'him', 'itself', 'more', 'll', 'a', 'do', 's', 'but', 'ma', 'not', 'with', 'is', 'when', 'doing', 'of', 'there', 'below', 'now', 'shan', 'won', 'again']} \n",
      "---------------------\n",
      "---------------------\n",
      "---------------------\n",
      "---------------------\n",
      "Test AUC: 0.784\n",
      "Test Accuracy: 0.700\n",
      "---------------------\n",
      "---------------------\n",
      "---------------------\n",
      "---------------------\n"
     ]
    }
   ],
   "source": [
    "# loading Python packages\n",
    "#########################\n",
    "\n",
    "from sklearn.utils import shuffle \n",
    "\n",
    "from sklearn.model_selection import train_test_split\n",
    "from sklearn.model_selection import StratifiedKFold\n",
    "from sklearn.model_selection import GridSearchCV\n",
    "\n",
    "from sklearn.metrics import roc_curve\n",
    "from sklearn.metrics import auc \n",
    "from sklearn.metrics import roc_auc_score\n",
    "from sklearn.metrics import accuracy_score\n",
    "\n",
    "# data preparation\n",
    "###########################################\n",
    "\n",
    "# data import\n",
    "import pandas as pd\n",
    "\n",
    "path = './toymdb/data_dedandprep.csv'  # insert path to deduplicated and preprocessed data\n",
    "df = pd.read_csv(path)\n",
    "\n",
    "# shuffling data\n",
    "import numpy as np\n",
    "\n",
    "np.random.seed(0)\n",
    "df = df.reindex(np.random.permutation(df.index))\n",
    "\n",
    "# introducing the stopwords\n",
    "###########################################\n",
    "\n",
    "# stopwords\n",
    "import nltk\n",
    "from nltk.corpus import stopwords\n",
    "stopwords = list(set(stopwords.words('english')))\n",
    "\n",
    "# train vs. test: we already shuffled data -80/20 split\n",
    "##########################################\n",
    "\n",
    "X_train = df.head(400).review\n",
    "y_train = df.head(400).sentiment\n",
    "\n",
    "X_test = df.tail(100).review\n",
    "y_test = df.tail(100).sentiment\n",
    "\n",
    "print('---------------------')\n",
    "print('---------------------')\n",
    "print('---------------------')\n",
    "print('---------------------')\n",
    "print('X_train shape check: ', X_train.shape)\n",
    "print('X_test shape check: ', X_test.shape)\n",
    "print('---------------------')\n",
    "print('---------------------')\n",
    "print('---------------------')\n",
    "print('---------------------')\n",
    "\n",
    "# GridSearch()\n",
    "###########################################\n",
    "\n",
    "from sklearn.pipeline import Pipeline\n",
    "from sklearn.tree import DecisionTreeClassifier\n",
    "from sklearn.ensemble import RandomForestClassifier\n",
    "from sklearn.feature_extraction.text import TfidfVectorizer\n",
    "from sklearn.model_selection import GridSearchCV\n",
    "\n",
    "tfidf = TfidfVectorizer(strip_accents=None,\n",
    "                        lowercase=False,\n",
    "                        preprocessor=None)\n",
    "\n",
    "param_grid = {'vect__ngram_range': [(1, 1)],    # for 2-grams:(1, 2)\n",
    "              'vect__stop_words': [stopwords, None],\n",
    "              'vect__max_df': [1.0, 0.1, 0.3, 0.5],\n",
    "              'vect__max_features': [None, 400],                                           \n",
    "              'clf__n_estimators': [10, 20, 30, 40],\n",
    "              'clf__max_depth': [1, 5, 10]\n",
    "              }\n",
    "\n",
    "lr_tfidf = Pipeline([('vect', tfidf),\n",
    "                     ('clf', RandomForestClassifier())]\n",
    "                    )\n",
    "\n",
    "# on cross-validation parameters\n",
    "cv = StratifiedKFold(n_splits=5, \n",
    "                     shuffle=False\n",
    "                     )\n",
    "\n",
    "gs_lr_tfidf = GridSearchCV(lr_tfidf, param_grid,\n",
    "                           scoring='roc_auc',\n",
    "                           cv=cv, \n",
    "                           n_jobs=-1)       # insert the number of jobs, according to the used machine\n",
    "\n",
    "# running the grid\n",
    "###########################################\n",
    "start=time.time()\n",
    "gs_lr_tfidf.fit(X_train, y_train)\n",
    "end=time.time()\n",
    "print('Running time: %s Seconds'%(end-start))\n",
    "\n",
    "# best estimator - test performance\n",
    "###########################################\n",
    "\n",
    "clf_b = gs_lr_tfidf.best_estimator_\n",
    "y_pred_proba = clf_b.predict_proba(X_test)\n",
    "y_pred = clf_b.predict(X_test)\n",
    "\n",
    "# AUC on test data\n",
    "auc_res=roc_auc_score(y_test, y_pred_proba[:, 1])\n",
    "\n",
    "# Accuracy on test data\n",
    "acc = accuracy_score(y_test, y_pred)\n",
    "\n",
    "# collecting results\n",
    "###########################################\n",
    "\n",
    "print('---------------------')\n",
    "print('---------------------')\n",
    "print('---------------------')\n",
    "print('---------------------')\n",
    "print('Best parameter set: %s ' % gs_lr_tfidf.best_params_)\n",
    "print('---------------------')\n",
    "print('---------------------')\n",
    "print('---------------------')\n",
    "print('---------------------')\n",
    "print('Test AUC: %.3f' % auc_res)\n",
    "print('Test Accuracy: %.3f' % acc)\n",
    "print('---------------------')\n",
    "print('---------------------')\n",
    "print('---------------------')\n",
    "print('---------------------')"
   ]
  },
  {
   "cell_type": "markdown",
   "metadata": {},
   "source": [
    "### 5.2.2. Bag-of-POS<a name=\"RF_BOP\"></a>"
   ]
  },
  {
   "cell_type": "code",
   "execution_count": 75,
   "metadata": {},
   "outputs": [
    {
     "name": "stdout",
     "output_type": "stream",
     "text": [
      "---------------------\n",
      "---------------------\n",
      "---------------------\n",
      "---------------------\n",
      "X_train shape check:  (400,)\n",
      "X_test shape check:  (100,)\n",
      "---------------------\n",
      "---------------------\n",
      "---------------------\n",
      "---------------------\n",
      "Running time: 1.977264165878296 Seconds\n",
      "---------------------\n",
      "---------------------\n",
      "---------------------\n",
      "---------------------\n",
      "Best parameter set: {'clf__max_depth': 5, 'clf__n_estimators': 40, 'vect__ngram_range': (1, 1)} \n",
      "---------------------\n",
      "---------------------\n",
      "---------------------\n",
      "---------------------\n",
      "Test AUC: 0.572\n",
      "Test Accuracy: 0.550\n",
      "---------------------\n",
      "---------------------\n",
      "---------------------\n",
      "---------------------\n"
     ]
    }
   ],
   "source": [
    "# loading Python packages\n",
    "#########################\n",
    "\n",
    "from sklearn.utils import shuffle \n",
    "\n",
    "from sklearn.model_selection import train_test_split\n",
    "from sklearn.model_selection import StratifiedKFold\n",
    "from sklearn.model_selection import GridSearchCV\n",
    "\n",
    "from sklearn.metrics import roc_curve\n",
    "from sklearn.metrics import auc \n",
    "from sklearn.metrics import roc_auc_score\n",
    "from sklearn.metrics import accuracy_score\n",
    "\n",
    "# data preparation\n",
    "###########################################\n",
    "\n",
    "# data import\n",
    "import pandas as pd\n",
    "\n",
    "path = './toymdb/data_POStagged.csv'  # insert path to data with POS-tags\n",
    "df = pd.read_csv(path)\n",
    "\n",
    "# shuffling data\n",
    "import numpy as np\n",
    "\n",
    "np.random.seed(0)\n",
    "df = df.reindex(np.random.permutation(df.index))\n",
    "\n",
    "# train vs. test: we already shuffled data -80/20 split\n",
    "##########################################\n",
    "\n",
    "X_train = df.head(400).text_pos\n",
    "y_train = df.head(400).sentiment\n",
    "\n",
    "X_test = df.tail(100).text_pos\n",
    "y_test = df.tail(100).sentiment\n",
    "\n",
    "print('---------------------')\n",
    "print('---------------------')\n",
    "print('---------------------')\n",
    "print('---------------------')\n",
    "print('X_train shape check: ', X_train.shape)\n",
    "print('X_test shape check: ', X_test.shape)\n",
    "print('---------------------')\n",
    "print('---------------------')\n",
    "print('---------------------')\n",
    "print('---------------------')\n",
    "\n",
    "# GridSearch()\n",
    "###########################################\n",
    "\n",
    "from sklearn.pipeline import Pipeline\n",
    "from sklearn.tree import DecisionTreeClassifier\n",
    "from sklearn.ensemble import RandomForestClassifier\n",
    "from sklearn.feature_extraction.text import TfidfVectorizer\n",
    "from sklearn.model_selection import GridSearchCV\n",
    "\n",
    "tfidf = TfidfVectorizer(strip_accents=None,\n",
    "                        lowercase=False,\n",
    "                        preprocessor=None)\n",
    "\n",
    "param_grid = {'vect__ngram_range': [(1, 1)],               # we consider only 1-gram POS (for 2-grams: (1,2))\n",
    "              'clf__n_estimators': [10, 20, 30, 40],\n",
    "              'clf__max_depth': [1, 5, 10]\n",
    "              }\n",
    "\n",
    "lr_tfidf = Pipeline([('vect', tfidf),\n",
    "                     ('clf', RandomForestClassifier())]\n",
    "                    )\n",
    "\n",
    "# on cross-validation parameters\n",
    "cv = StratifiedKFold(n_splits=5, \n",
    "                     shuffle=False\n",
    "                     )\n",
    "\n",
    "gs_lr_tfidf = GridSearchCV(lr_tfidf, param_grid,\n",
    "                           scoring='roc_auc',\n",
    "                           cv=cv, \n",
    "                           n_jobs=-1)              # insert the number of jobs, according to the used machine\n",
    "\n",
    "# running the grid\n",
    "###########################################\n",
    "start=time.time()\n",
    "gs_lr_tfidf.fit(X_train, y_train)\n",
    "end=time.time()\n",
    "print('Running time: %s Seconds'%(end-start))\n",
    "\n",
    "# best estimator - test performance\n",
    "###########################################\n",
    "\n",
    "clf_b = gs_lr_tfidf.best_estimator_\n",
    "y_pred_proba = clf_b.predict_proba(X_test)\n",
    "y_pred = clf_b.predict(X_test)\n",
    "\n",
    "# AUC on test data\n",
    "auc_res=roc_auc_score(y_test, y_pred_proba[:, 1])\n",
    "\n",
    "# Accuracy on test data\n",
    "acc = accuracy_score(y_test, y_pred)\n",
    "\n",
    "# collecting results\n",
    "###########################################\n",
    "\n",
    "print('---------------------')\n",
    "print('---------------------')\n",
    "print('---------------------')\n",
    "print('---------------------')\n",
    "print('Best parameter set: %s ' % gs_lr_tfidf.best_params_)\n",
    "print('---------------------')\n",
    "print('---------------------')\n",
    "print('---------------------')\n",
    "print('---------------------')\n",
    "print('Test AUC: %.3f' % auc_res)\n",
    "print('Test Accuracy: %.3f' % acc)\n",
    "print('---------------------')\n",
    "print('---------------------')\n",
    "print('---------------------')\n",
    "print('---------------------')"
   ]
  },
  {
   "cell_type": "markdown",
   "metadata": {},
   "source": [
    "### 5.2.3. Embeddings<a name=\"RF_E\"></a>"
   ]
  },
  {
   "cell_type": "code",
   "execution_count": 66,
   "metadata": {},
   "outputs": [
    {
     "name": "stdout",
     "output_type": "stream",
     "text": [
      "---------------------\n",
      "---------------------\n",
      "---------------------\n",
      "---------------------\n",
      "X_train shape check:  (400, 96)\n",
      "X_test shape check:  (100, 96)\n",
      "---------------------\n",
      "---------------------\n",
      "---------------------\n",
      "---------------------\n",
      "Running time: 3.092280149459839 Seconds\n",
      "---------------------\n",
      "---------------------\n",
      "---------------------\n",
      "---------------------\n",
      "Best parameter set: {'clf__max_depth': 1, 'clf__n_estimators': 30} \n",
      "---------------------\n",
      "---------------------\n",
      "---------------------\n",
      "---------------------\n",
      "Test AUC: 0.639\n",
      "Test Accuracy: 0.590\n",
      "---------------------\n",
      "---------------------\n",
      "---------------------\n",
      "---------------------\n"
     ]
    }
   ],
   "source": [
    "# loading Python packages\n",
    "#########################\n",
    "\n",
    "from sklearn.utils import shuffle\n",
    "\n",
    "from sklearn.model_selection import train_test_split\n",
    "from sklearn.model_selection import StratifiedKFold\n",
    "from sklearn.model_selection import GridSearchCV\n",
    "\n",
    "from sklearn.metrics import roc_curve\n",
    "from sklearn.metrics import auc \n",
    "from sklearn.metrics import roc_auc_score\n",
    "from sklearn.metrics import accuracy_score\n",
    "\n",
    "# data preparation\n",
    "###########################################\n",
    "\n",
    "# data import \n",
    "import pandas as pd\n",
    "\n",
    "path = './toymdb/data_dedandprep.csv'  # insert path to data with pre-trained word embeddings\n",
    "df = pd.read_csv(path)\n",
    "\n",
    "# shuffling data\n",
    "import numpy as np\n",
    "\n",
    "np.random.seed(0)\n",
    "df = df.reindex(np.random.permutation(df.index))\n",
    "\n",
    "# train vs. test: we already shuffled data -80/20 split - drop the variables\n",
    "############################################################################\n",
    "\n",
    "X_train = df.drop(columns=['review', 'sentiment']).head(400)    # we use only the 300 embeddings\n",
    "y_train = df.head(400).sentiment\n",
    "\n",
    "X_test = df.drop(columns=['review', 'sentiment']).tail(100)     # we use only the 300 embeddings\n",
    "y_test = df.tail(100).sentiment\n",
    "\n",
    "print('---------------------')\n",
    "print('---------------------')\n",
    "print('---------------------')\n",
    "print('---------------------')\n",
    "print('X_train shape check: ', X_train.shape)\n",
    "print('X_test shape check: ', X_test.shape)\n",
    "print('---------------------')\n",
    "print('---------------------')\n",
    "print('---------------------')\n",
    "print('---------------------')\n",
    "\n",
    "# GridSearch()\n",
    "###########################################\n",
    "\n",
    "from sklearn.pipeline import Pipeline\n",
    "from sklearn.tree import DecisionTreeClassifier\n",
    "from sklearn.ensemble import RandomForestClassifier\n",
    "from sklearn.model_selection import GridSearchCV\n",
    "\n",
    "\n",
    "param_grid = {\n",
    "              'clf__n_estimators': [10, 20, 30, 40],\n",
    "              'clf__max_depth': [1, 5, 10]\n",
    "             }\n",
    "\n",
    "# extended parameter grid (Table 6, Section 6.4.5 in the tutorial)\n",
    "# param_grid = {'clf__n_estimators': [100, 200, 300, 400, 500, 600, 800, 1000],\n",
    "#              'clf__max_depth': [1, 5, 10, 20]}\n",
    "\n",
    "pipe = Pipeline([('clf', RandomForestClassifier())\n",
    "               ])\n",
    "\n",
    "# on cross-validation parameters\n",
    "cv = StratifiedKFold(n_splits=5, \n",
    "                     shuffle=False\n",
    "                     )\n",
    "\n",
    "gs_lr_tfidf = GridSearchCV(pipe, param_grid,\n",
    "                           scoring='roc_auc',\n",
    "                           cv=cv, \n",
    "                           n_jobs=-1)               # insert the number of jobs, according to the used machine\n",
    "\n",
    "# running the grid\n",
    "###########################################\n",
    "start=time.time()\n",
    "gs_lr_tfidf.fit(X_train, y_train)\n",
    "end=time.time()\n",
    "print('Running time: %s Seconds'%(end-start))\n",
    "\n",
    "# best estimator - test performance\n",
    "###########################################\n",
    "\n",
    "clf_b = gs_lr_tfidf.best_estimator_\n",
    "y_pred_proba = clf_b.predict_proba(X_test)\n",
    "y_pred = clf_b.predict(X_test)\n",
    "\n",
    "# AUC on test data\n",
    "auc_res=roc_auc_score(y_test, y_pred_proba[:, 1])\n",
    "\n",
    "# Accuracy on test data\n",
    "acc = accuracy_score(y_test, y_pred)\n",
    "\n",
    "# collecting results\n",
    "###########################################\n",
    "\n",
    "print('---------------------')\n",
    "print('---------------------')\n",
    "print('---------------------')\n",
    "print('---------------------')\n",
    "print('Best parameter set: %s ' % gs_lr_tfidf.best_params_)\n",
    "print('---------------------')\n",
    "print('---------------------')\n",
    "print('---------------------')\n",
    "print('---------------------')\n",
    "print('Test AUC: %.3f' % auc_res)\n",
    "print('Test Accuracy: %.3f' % acc)\n",
    "print('---------------------')\n",
    "print('---------------------')\n",
    "print('---------------------')\n",
    "print('---------------------')"
   ]
  },
  {
   "cell_type": "markdown",
   "metadata": {},
   "source": [
    "## 5.3. Extreme gradient boosting (XGB)<a name=\"XGB\"></a>"
   ]
  },
  {
   "cell_type": "markdown",
   "metadata": {},
   "source": [
    "### 5.3.1. Bag-of-words<a name=\"XGB_BOW\"></a>"
   ]
  },
  {
   "cell_type": "markdown",
   "metadata": {},
   "source": [
    "这个最久，要四分多钟"
   ]
  },
  {
   "cell_type": "code",
   "execution_count": 69,
   "metadata": {},
   "outputs": [
    {
     "name": "stdout",
     "output_type": "stream",
     "text": [
      "---------------------\n",
      "---------------------\n",
      "---------------------\n",
      "---------------------\n",
      "X_train shape check:  (400,)\n",
      "X_test shape check:  (100,)\n",
      "---------------------\n",
      "---------------------\n",
      "---------------------\n",
      "---------------------\n"
     ]
    },
    {
     "ename": "KeyboardInterrupt",
     "evalue": "",
     "output_type": "error",
     "traceback": [
      "\u001b[0;31m---------------------------------------------------------------------------\u001b[0m",
      "\u001b[0;31mKeyboardInterrupt\u001b[0m                         Traceback (most recent call last)",
      "\u001b[0;32m<ipython-input-69-555a3f842b47>\u001b[0m in \u001b[0;36m<module>\u001b[0;34m\u001b[0m\n\u001b[1;32m    100\u001b[0m \u001b[0;31m###########################################\u001b[0m\u001b[0;34m\u001b[0m\u001b[0;34m\u001b[0m\u001b[0;34m\u001b[0m\u001b[0m\n\u001b[1;32m    101\u001b[0m \u001b[0mstart\u001b[0m\u001b[0;34m=\u001b[0m\u001b[0mtime\u001b[0m\u001b[0;34m.\u001b[0m\u001b[0mtime\u001b[0m\u001b[0;34m(\u001b[0m\u001b[0;34m)\u001b[0m\u001b[0;34m\u001b[0m\u001b[0;34m\u001b[0m\u001b[0m\n\u001b[0;32m--> 102\u001b[0;31m \u001b[0mgs_lr_tfidf\u001b[0m\u001b[0;34m.\u001b[0m\u001b[0mfit\u001b[0m\u001b[0;34m(\u001b[0m\u001b[0mX_train\u001b[0m\u001b[0;34m,\u001b[0m \u001b[0my_train\u001b[0m\u001b[0;34m)\u001b[0m\u001b[0;34m\u001b[0m\u001b[0;34m\u001b[0m\u001b[0m\n\u001b[0m\u001b[1;32m    103\u001b[0m \u001b[0mend\u001b[0m\u001b[0;34m=\u001b[0m\u001b[0mtime\u001b[0m\u001b[0;34m.\u001b[0m\u001b[0mtime\u001b[0m\u001b[0;34m(\u001b[0m\u001b[0;34m)\u001b[0m\u001b[0;34m\u001b[0m\u001b[0;34m\u001b[0m\u001b[0m\n\u001b[1;32m    104\u001b[0m \u001b[0mprint\u001b[0m\u001b[0;34m(\u001b[0m\u001b[0;34m'Running time: %s Seconds'\u001b[0m\u001b[0;34m%\u001b[0m\u001b[0;34m(\u001b[0m\u001b[0mend\u001b[0m\u001b[0;34m-\u001b[0m\u001b[0mstart\u001b[0m\u001b[0;34m)\u001b[0m\u001b[0;34m)\u001b[0m\u001b[0;34m\u001b[0m\u001b[0;34m\u001b[0m\u001b[0m\n",
      "\u001b[0;32m~/opt/anaconda3/envs/r_keras/lib/python3.6/site-packages/sklearn/utils/validation.py\u001b[0m in \u001b[0;36minner_f\u001b[0;34m(*args, **kwargs)\u001b[0m\n\u001b[1;32m     70\u001b[0m                           FutureWarning)\n\u001b[1;32m     71\u001b[0m         \u001b[0mkwargs\u001b[0m\u001b[0;34m.\u001b[0m\u001b[0mupdate\u001b[0m\u001b[0;34m(\u001b[0m\u001b[0;34m{\u001b[0m\u001b[0mk\u001b[0m\u001b[0;34m:\u001b[0m \u001b[0marg\u001b[0m \u001b[0;32mfor\u001b[0m \u001b[0mk\u001b[0m\u001b[0;34m,\u001b[0m \u001b[0marg\u001b[0m \u001b[0;32min\u001b[0m \u001b[0mzip\u001b[0m\u001b[0;34m(\u001b[0m\u001b[0msig\u001b[0m\u001b[0;34m.\u001b[0m\u001b[0mparameters\u001b[0m\u001b[0;34m,\u001b[0m \u001b[0margs\u001b[0m\u001b[0;34m)\u001b[0m\u001b[0;34m}\u001b[0m\u001b[0;34m)\u001b[0m\u001b[0;34m\u001b[0m\u001b[0;34m\u001b[0m\u001b[0m\n\u001b[0;32m---> 72\u001b[0;31m         \u001b[0;32mreturn\u001b[0m \u001b[0mf\u001b[0m\u001b[0;34m(\u001b[0m\u001b[0;34m**\u001b[0m\u001b[0mkwargs\u001b[0m\u001b[0;34m)\u001b[0m\u001b[0;34m\u001b[0m\u001b[0;34m\u001b[0m\u001b[0m\n\u001b[0m\u001b[1;32m     73\u001b[0m     \u001b[0;32mreturn\u001b[0m \u001b[0minner_f\u001b[0m\u001b[0;34m\u001b[0m\u001b[0;34m\u001b[0m\u001b[0m\n\u001b[1;32m     74\u001b[0m \u001b[0;34m\u001b[0m\u001b[0m\n",
      "\u001b[0;32m~/opt/anaconda3/envs/r_keras/lib/python3.6/site-packages/sklearn/model_selection/_search.py\u001b[0m in \u001b[0;36mfit\u001b[0;34m(self, X, y, groups, **fit_params)\u001b[0m\n\u001b[1;32m    734\u001b[0m                 \u001b[0;32mreturn\u001b[0m \u001b[0mresults\u001b[0m\u001b[0;34m\u001b[0m\u001b[0;34m\u001b[0m\u001b[0m\n\u001b[1;32m    735\u001b[0m \u001b[0;34m\u001b[0m\u001b[0m\n\u001b[0;32m--> 736\u001b[0;31m             \u001b[0mself\u001b[0m\u001b[0;34m.\u001b[0m\u001b[0m_run_search\u001b[0m\u001b[0;34m(\u001b[0m\u001b[0mevaluate_candidates\u001b[0m\u001b[0;34m)\u001b[0m\u001b[0;34m\u001b[0m\u001b[0;34m\u001b[0m\u001b[0m\n\u001b[0m\u001b[1;32m    737\u001b[0m \u001b[0;34m\u001b[0m\u001b[0m\n\u001b[1;32m    738\u001b[0m         \u001b[0;31m# For multi-metric evaluation, store the best_index_, best_params_ and\u001b[0m\u001b[0;34m\u001b[0m\u001b[0;34m\u001b[0m\u001b[0;34m\u001b[0m\u001b[0m\n",
      "\u001b[0;32m~/opt/anaconda3/envs/r_keras/lib/python3.6/site-packages/sklearn/model_selection/_search.py\u001b[0m in \u001b[0;36m_run_search\u001b[0;34m(self, evaluate_candidates)\u001b[0m\n\u001b[1;32m   1186\u001b[0m     \u001b[0;32mdef\u001b[0m \u001b[0m_run_search\u001b[0m\u001b[0;34m(\u001b[0m\u001b[0mself\u001b[0m\u001b[0;34m,\u001b[0m \u001b[0mevaluate_candidates\u001b[0m\u001b[0;34m)\u001b[0m\u001b[0;34m:\u001b[0m\u001b[0;34m\u001b[0m\u001b[0;34m\u001b[0m\u001b[0m\n\u001b[1;32m   1187\u001b[0m         \u001b[0;34m\"\"\"Search all candidates in param_grid\"\"\"\u001b[0m\u001b[0;34m\u001b[0m\u001b[0;34m\u001b[0m\u001b[0m\n\u001b[0;32m-> 1188\u001b[0;31m         \u001b[0mevaluate_candidates\u001b[0m\u001b[0;34m(\u001b[0m\u001b[0mParameterGrid\u001b[0m\u001b[0;34m(\u001b[0m\u001b[0mself\u001b[0m\u001b[0;34m.\u001b[0m\u001b[0mparam_grid\u001b[0m\u001b[0;34m)\u001b[0m\u001b[0;34m)\u001b[0m\u001b[0;34m\u001b[0m\u001b[0;34m\u001b[0m\u001b[0m\n\u001b[0m\u001b[1;32m   1189\u001b[0m \u001b[0;34m\u001b[0m\u001b[0m\n\u001b[1;32m   1190\u001b[0m \u001b[0;34m\u001b[0m\u001b[0m\n",
      "\u001b[0;32m~/opt/anaconda3/envs/r_keras/lib/python3.6/site-packages/sklearn/model_selection/_search.py\u001b[0m in \u001b[0;36mevaluate_candidates\u001b[0;34m(candidate_params)\u001b[0m\n\u001b[1;32m    713\u001b[0m                                \u001b[0;32mfor\u001b[0m \u001b[0mparameters\u001b[0m\u001b[0;34m,\u001b[0m \u001b[0;34m(\u001b[0m\u001b[0mtrain\u001b[0m\u001b[0;34m,\u001b[0m \u001b[0mtest\u001b[0m\u001b[0;34m)\u001b[0m\u001b[0;34m\u001b[0m\u001b[0;34m\u001b[0m\u001b[0m\n\u001b[1;32m    714\u001b[0m                                in product(candidate_params,\n\u001b[0;32m--> 715\u001b[0;31m                                           cv.split(X, y, groups)))\n\u001b[0m\u001b[1;32m    716\u001b[0m \u001b[0;34m\u001b[0m\u001b[0m\n\u001b[1;32m    717\u001b[0m                 \u001b[0;32mif\u001b[0m \u001b[0mlen\u001b[0m\u001b[0;34m(\u001b[0m\u001b[0mout\u001b[0m\u001b[0;34m)\u001b[0m \u001b[0;34m<\u001b[0m \u001b[0;36m1\u001b[0m\u001b[0;34m:\u001b[0m\u001b[0;34m\u001b[0m\u001b[0;34m\u001b[0m\u001b[0m\n",
      "\u001b[0;32m~/opt/anaconda3/envs/r_keras/lib/python3.6/site-packages/joblib/parallel.py\u001b[0m in \u001b[0;36m__call__\u001b[0;34m(self, iterable)\u001b[0m\n\u001b[1;32m   1052\u001b[0m \u001b[0;34m\u001b[0m\u001b[0m\n\u001b[1;32m   1053\u001b[0m             \u001b[0;32mwith\u001b[0m \u001b[0mself\u001b[0m\u001b[0;34m.\u001b[0m\u001b[0m_backend\u001b[0m\u001b[0;34m.\u001b[0m\u001b[0mretrieval_context\u001b[0m\u001b[0;34m(\u001b[0m\u001b[0;34m)\u001b[0m\u001b[0;34m:\u001b[0m\u001b[0;34m\u001b[0m\u001b[0;34m\u001b[0m\u001b[0m\n\u001b[0;32m-> 1054\u001b[0;31m                 \u001b[0mself\u001b[0m\u001b[0;34m.\u001b[0m\u001b[0mretrieve\u001b[0m\u001b[0;34m(\u001b[0m\u001b[0;34m)\u001b[0m\u001b[0;34m\u001b[0m\u001b[0;34m\u001b[0m\u001b[0m\n\u001b[0m\u001b[1;32m   1055\u001b[0m             \u001b[0;31m# Make sure that we get a last message telling us we are done\u001b[0m\u001b[0;34m\u001b[0m\u001b[0;34m\u001b[0m\u001b[0;34m\u001b[0m\u001b[0m\n\u001b[1;32m   1056\u001b[0m             \u001b[0melapsed_time\u001b[0m \u001b[0;34m=\u001b[0m \u001b[0mtime\u001b[0m\u001b[0;34m.\u001b[0m\u001b[0mtime\u001b[0m\u001b[0;34m(\u001b[0m\u001b[0;34m)\u001b[0m \u001b[0;34m-\u001b[0m \u001b[0mself\u001b[0m\u001b[0;34m.\u001b[0m\u001b[0m_start_time\u001b[0m\u001b[0;34m\u001b[0m\u001b[0;34m\u001b[0m\u001b[0m\n",
      "\u001b[0;32m~/opt/anaconda3/envs/r_keras/lib/python3.6/site-packages/joblib/parallel.py\u001b[0m in \u001b[0;36mretrieve\u001b[0;34m(self)\u001b[0m\n\u001b[1;32m    931\u001b[0m             \u001b[0;32mtry\u001b[0m\u001b[0;34m:\u001b[0m\u001b[0;34m\u001b[0m\u001b[0;34m\u001b[0m\u001b[0m\n\u001b[1;32m    932\u001b[0m                 \u001b[0;32mif\u001b[0m \u001b[0mgetattr\u001b[0m\u001b[0;34m(\u001b[0m\u001b[0mself\u001b[0m\u001b[0;34m.\u001b[0m\u001b[0m_backend\u001b[0m\u001b[0;34m,\u001b[0m \u001b[0;34m'supports_timeout'\u001b[0m\u001b[0;34m,\u001b[0m \u001b[0;32mFalse\u001b[0m\u001b[0;34m)\u001b[0m\u001b[0;34m:\u001b[0m\u001b[0;34m\u001b[0m\u001b[0;34m\u001b[0m\u001b[0m\n\u001b[0;32m--> 933\u001b[0;31m                     \u001b[0mself\u001b[0m\u001b[0;34m.\u001b[0m\u001b[0m_output\u001b[0m\u001b[0;34m.\u001b[0m\u001b[0mextend\u001b[0m\u001b[0;34m(\u001b[0m\u001b[0mjob\u001b[0m\u001b[0;34m.\u001b[0m\u001b[0mget\u001b[0m\u001b[0;34m(\u001b[0m\u001b[0mtimeout\u001b[0m\u001b[0;34m=\u001b[0m\u001b[0mself\u001b[0m\u001b[0;34m.\u001b[0m\u001b[0mtimeout\u001b[0m\u001b[0;34m)\u001b[0m\u001b[0;34m)\u001b[0m\u001b[0;34m\u001b[0m\u001b[0;34m\u001b[0m\u001b[0m\n\u001b[0m\u001b[1;32m    934\u001b[0m                 \u001b[0;32melse\u001b[0m\u001b[0;34m:\u001b[0m\u001b[0;34m\u001b[0m\u001b[0;34m\u001b[0m\u001b[0m\n\u001b[1;32m    935\u001b[0m                     \u001b[0mself\u001b[0m\u001b[0;34m.\u001b[0m\u001b[0m_output\u001b[0m\u001b[0;34m.\u001b[0m\u001b[0mextend\u001b[0m\u001b[0;34m(\u001b[0m\u001b[0mjob\u001b[0m\u001b[0;34m.\u001b[0m\u001b[0mget\u001b[0m\u001b[0;34m(\u001b[0m\u001b[0;34m)\u001b[0m\u001b[0;34m)\u001b[0m\u001b[0;34m\u001b[0m\u001b[0;34m\u001b[0m\u001b[0m\n",
      "\u001b[0;32m~/opt/anaconda3/envs/r_keras/lib/python3.6/site-packages/joblib/_parallel_backends.py\u001b[0m in \u001b[0;36mwrap_future_result\u001b[0;34m(future, timeout)\u001b[0m\n\u001b[1;32m    540\u001b[0m         AsyncResults.get from multiprocessing.\"\"\"\n\u001b[1;32m    541\u001b[0m         \u001b[0;32mtry\u001b[0m\u001b[0;34m:\u001b[0m\u001b[0;34m\u001b[0m\u001b[0;34m\u001b[0m\u001b[0m\n\u001b[0;32m--> 542\u001b[0;31m             \u001b[0;32mreturn\u001b[0m \u001b[0mfuture\u001b[0m\u001b[0;34m.\u001b[0m\u001b[0mresult\u001b[0m\u001b[0;34m(\u001b[0m\u001b[0mtimeout\u001b[0m\u001b[0;34m=\u001b[0m\u001b[0mtimeout\u001b[0m\u001b[0;34m)\u001b[0m\u001b[0;34m\u001b[0m\u001b[0;34m\u001b[0m\u001b[0m\n\u001b[0m\u001b[1;32m    543\u001b[0m         \u001b[0;32mexcept\u001b[0m \u001b[0mCfTimeoutError\u001b[0m \u001b[0;32mas\u001b[0m \u001b[0me\u001b[0m\u001b[0;34m:\u001b[0m\u001b[0;34m\u001b[0m\u001b[0;34m\u001b[0m\u001b[0m\n\u001b[1;32m    544\u001b[0m             \u001b[0;32mraise\u001b[0m \u001b[0mTimeoutError\u001b[0m \u001b[0;32mfrom\u001b[0m \u001b[0me\u001b[0m\u001b[0;34m\u001b[0m\u001b[0;34m\u001b[0m\u001b[0m\n",
      "\u001b[0;32m~/opt/anaconda3/envs/r_keras/lib/python3.6/concurrent/futures/_base.py\u001b[0m in \u001b[0;36mresult\u001b[0;34m(self, timeout)\u001b[0m\n\u001b[1;32m    425\u001b[0m                 \u001b[0;32mreturn\u001b[0m \u001b[0mself\u001b[0m\u001b[0;34m.\u001b[0m\u001b[0m__get_result\u001b[0m\u001b[0;34m(\u001b[0m\u001b[0;34m)\u001b[0m\u001b[0;34m\u001b[0m\u001b[0;34m\u001b[0m\u001b[0m\n\u001b[1;32m    426\u001b[0m \u001b[0;34m\u001b[0m\u001b[0m\n\u001b[0;32m--> 427\u001b[0;31m             \u001b[0mself\u001b[0m\u001b[0;34m.\u001b[0m\u001b[0m_condition\u001b[0m\u001b[0;34m.\u001b[0m\u001b[0mwait\u001b[0m\u001b[0;34m(\u001b[0m\u001b[0mtimeout\u001b[0m\u001b[0;34m)\u001b[0m\u001b[0;34m\u001b[0m\u001b[0;34m\u001b[0m\u001b[0m\n\u001b[0m\u001b[1;32m    428\u001b[0m \u001b[0;34m\u001b[0m\u001b[0m\n\u001b[1;32m    429\u001b[0m             \u001b[0;32mif\u001b[0m \u001b[0mself\u001b[0m\u001b[0;34m.\u001b[0m\u001b[0m_state\u001b[0m \u001b[0;32min\u001b[0m \u001b[0;34m[\u001b[0m\u001b[0mCANCELLED\u001b[0m\u001b[0;34m,\u001b[0m \u001b[0mCANCELLED_AND_NOTIFIED\u001b[0m\u001b[0;34m]\u001b[0m\u001b[0;34m:\u001b[0m\u001b[0;34m\u001b[0m\u001b[0;34m\u001b[0m\u001b[0m\n",
      "\u001b[0;32m~/opt/anaconda3/envs/r_keras/lib/python3.6/threading.py\u001b[0m in \u001b[0;36mwait\u001b[0;34m(self, timeout)\u001b[0m\n\u001b[1;32m    293\u001b[0m         \u001b[0;32mtry\u001b[0m\u001b[0;34m:\u001b[0m    \u001b[0;31m# restore state no matter what (e.g., KeyboardInterrupt)\u001b[0m\u001b[0;34m\u001b[0m\u001b[0;34m\u001b[0m\u001b[0m\n\u001b[1;32m    294\u001b[0m             \u001b[0;32mif\u001b[0m \u001b[0mtimeout\u001b[0m \u001b[0;32mis\u001b[0m \u001b[0;32mNone\u001b[0m\u001b[0;34m:\u001b[0m\u001b[0;34m\u001b[0m\u001b[0;34m\u001b[0m\u001b[0m\n\u001b[0;32m--> 295\u001b[0;31m                 \u001b[0mwaiter\u001b[0m\u001b[0;34m.\u001b[0m\u001b[0macquire\u001b[0m\u001b[0;34m(\u001b[0m\u001b[0;34m)\u001b[0m\u001b[0;34m\u001b[0m\u001b[0;34m\u001b[0m\u001b[0m\n\u001b[0m\u001b[1;32m    296\u001b[0m                 \u001b[0mgotit\u001b[0m \u001b[0;34m=\u001b[0m \u001b[0;32mTrue\u001b[0m\u001b[0;34m\u001b[0m\u001b[0;34m\u001b[0m\u001b[0m\n\u001b[1;32m    297\u001b[0m             \u001b[0;32melse\u001b[0m\u001b[0;34m:\u001b[0m\u001b[0;34m\u001b[0m\u001b[0;34m\u001b[0m\u001b[0m\n",
      "\u001b[0;31mKeyboardInterrupt\u001b[0m: "
     ]
    }
   ],
   "source": [
    "# loading Python packages\n",
    "#########################\n",
    "\n",
    "from sklearn.utils import shuffle\n",
    "\n",
    "from sklearn.model_selection import train_test_split\n",
    "from sklearn.model_selection import StratifiedKFold\n",
    "from sklearn.model_selection import GridSearchCV\n",
    "\n",
    "from sklearn.metrics import roc_curve\n",
    "from sklearn.metrics import auc \n",
    "from sklearn.metrics import roc_auc_score\n",
    "from sklearn.metrics import accuracy_score\n",
    "\n",
    "# data preparation\n",
    "###########################################\n",
    "\n",
    "# data import\n",
    "import pandas as pd\n",
    "\n",
    "path = './toymdb/data_dedandprep.csv'  # insert path to preprocessed and deduplicated data\n",
    "df = pd.read_csv(path)\n",
    "\n",
    "# shuffling data\n",
    "import numpy as np\n",
    "\n",
    "np.random.seed(0)\n",
    "df = df.reindex(np.random.permutation(df.index))\n",
    "\n",
    "# introducing the stopwords\n",
    "###########################################\n",
    "\n",
    "# stopwords\n",
    "import nltk\n",
    "from nltk.corpus import stopwords\n",
    "stopwords = list(set(stopwords.words('english')))\n",
    "\n",
    "# train vs. test: we already shuffled data -80/20 split\n",
    "##########################################\n",
    "\n",
    "X_train = df.head(400).review\n",
    "y_train = df.head(400).sentiment\n",
    "\n",
    "X_test = df.tail(100).review\n",
    "y_test = df.tail(100).sentiment\n",
    "\n",
    "print('---------------------')\n",
    "print('---------------------')\n",
    "print('---------------------')\n",
    "print('---------------------')\n",
    "print('X_train shape check: ', X_train.shape)\n",
    "print('X_test shape check: ', X_test.shape)\n",
    "print('---------------------')\n",
    "print('---------------------')\n",
    "print('---------------------')\n",
    "print('---------------------')\n",
    "\n",
    "# GridSearch()\n",
    "###########################################\n",
    "\n",
    "from sklearn.pipeline import Pipeline\n",
    "from sklearn.tree import DecisionTreeClassifier\n",
    "from xgboost import XGBClassifier\n",
    "#如果import失败要先安装，安装代码如下\n",
    "#import pip\n",
    "#pip.main(['install', 'xgboost'])\n",
    "\n",
    "from sklearn.feature_extraction.text import TfidfVectorizer\n",
    "from sklearn.model_selection import GridSearchCV\n",
    "\n",
    "tfidf = TfidfVectorizer(strip_accents=None,\n",
    "                        lowercase=False,\n",
    "                        preprocessor=None)\n",
    "\n",
    "param_grid = {'vect__ngram_range': [(1, 1)],    # for 2-grams: (1,2)\n",
    "              'vect__stop_words': [stopwords, None],\n",
    "              'vect__max_df': [1.0, 0.1, 0.3, 0.5],\n",
    "              'vect__max_features': [None, 400],                                           \n",
    "              'clf__n_estimators': [10, 20, 30, 40],\n",
    "              'clf__learning_rate': [0.001, 0.01, 0.1],\n",
    "              'clf__max_depth': [1, 5, 10]\n",
    "              }\n",
    "\n",
    "\n",
    "lr_tfidf = Pipeline([('vect', tfidf),\n",
    "                     ('clf', XGBClassifier())]\n",
    "                    )\n",
    "\n",
    "# on cross-validation parameters\n",
    "cv = StratifiedKFold(n_splits=5, \n",
    "                     shuffle=False\n",
    "                     )\n",
    "\n",
    "gs_lr_tfidf = GridSearchCV(lr_tfidf, param_grid,\n",
    "                           scoring='roc_auc',\n",
    "                           cv=cv, \n",
    "                           n_jobs=-1)                 # insert the number of jobs, according to the used machine\n",
    "\n",
    "# running the grid\n",
    "###########################################\n",
    "start=time.time()\n",
    "gs_lr_tfidf.fit(X_train, y_train)\n",
    "end=time.time()\n",
    "print('Running time: %s Seconds'%(end-start))\n",
    "\n",
    "# best estimator - test performance\n",
    "###########################################\n",
    "\n",
    "clf_b = gs_lr_tfidf.best_estimator_\n",
    "y_pred_proba = clf_b.predict_proba(X_test)\n",
    "y_pred = clf_b.predict(X_test)\n",
    "\n",
    "# AUC on test data\n",
    "auc_res=roc_auc_score(y_test, y_pred_proba[:, 1])\n",
    "\n",
    "# Accuracy on test data\n",
    "acc = accuracy_score(y_test, y_pred)\n",
    "\n",
    "# collecting results\n",
    "###########################################\n",
    "\n",
    "print('---------------------')\n",
    "print('---------------------')\n",
    "print('---------------------')\n",
    "print('---------------------')\n",
    "print('Best parameter set: %s ' % gs_lr_tfidf.best_params_)\n",
    "print('---------------------')\n",
    "print('---------------------')\n",
    "print('---------------------')\n",
    "print('---------------------')\n",
    "print('Test AUC: %.3f' % auc_res)\n",
    "print('Test Accuracy: %.3f' % acc)\n",
    "print('---------------------')\n",
    "print('---------------------')\n",
    "print('---------------------')\n",
    "print('---------------------')"
   ]
  },
  {
   "cell_type": "markdown",
   "metadata": {},
   "source": [
    "### 5.3.2. Bag-of-POS<a name=\"XGB_BOP\"></a>"
   ]
  },
  {
   "cell_type": "code",
   "execution_count": 70,
   "metadata": {},
   "outputs": [
    {
     "name": "stdout",
     "output_type": "stream",
     "text": [
      "---------------------\n",
      "---------------------\n",
      "---------------------\n",
      "---------------------\n",
      "X_train shape check:  (400,)\n",
      "X_test shape check:  (100,)\n",
      "---------------------\n",
      "---------------------\n",
      "---------------------\n",
      "---------------------\n"
     ]
    },
    {
     "name": "stderr",
     "output_type": "stream",
     "text": [
      "/Users/Guangyuan/opt/anaconda3/envs/r_keras/lib/python3.6/site-packages/xgboost/sklearn.py:888: UserWarning: The use of label encoder in XGBClassifier is deprecated and will be removed in a future release. To remove this warning, do the following: 1) Pass option use_label_encoder=False when constructing XGBClassifier object; and 2) Encode your labels (y) as integers starting with 0, i.e. 0, 1, 2, ..., [num_class - 1].\n",
      "  warnings.warn(label_encoder_deprecation_msg, UserWarning)\n"
     ]
    },
    {
     "name": "stdout",
     "output_type": "stream",
     "text": [
      "[22:59:13] WARNING: /Users/travis/build/dmlc/xgboost/src/learner.cc:1061: Starting in XGBoost 1.3.0, the default evaluation metric used with the objective 'binary:logistic' was changed from 'error' to 'logloss'. Explicitly set eval_metric if you'd like to restore the old behavior.\n",
      "Running time: 105.92212080955505 Seconds\n",
      "---------------------\n",
      "---------------------\n",
      "---------------------\n",
      "---------------------\n",
      "Best parameter set: {'clf__learning_rate': 0.1, 'clf__max_depth': 1, 'clf__n_estimators': 40, 'vect__ngram_range': (1, 1)} \n",
      "---------------------\n",
      "---------------------\n",
      "---------------------\n",
      "---------------------\n",
      "Test AUC: 0.770\n",
      "Test Accuracy: 0.660\n",
      "---------------------\n",
      "---------------------\n",
      "---------------------\n",
      "---------------------\n"
     ]
    }
   ],
   "source": [
    "# loading Python packages\n",
    "#########################\n",
    "\n",
    "from sklearn.utils import shuffle\n",
    "\n",
    "from sklearn.model_selection import train_test_split\n",
    "from sklearn.model_selection import StratifiedKFold\n",
    "from sklearn.model_selection import GridSearchCV\n",
    "\n",
    "from sklearn.metrics import roc_curve\n",
    "from sklearn.metrics import auc \n",
    "from sklearn.metrics import roc_auc_score\n",
    "from sklearn.metrics import accuracy_score\n",
    "\n",
    "# data preparation\n",
    "###########################################\n",
    "\n",
    "# data import\n",
    "import pandas as pd\n",
    "\n",
    "path = './toymdb/data_POStagged.csv'  # insert data with POS-tags\n",
    "df = pd.read_csv(path)\n",
    "\n",
    "# shuffling data\n",
    "import numpy as np\n",
    "\n",
    "np.random.seed(0)\n",
    "df = df.reindex(np.random.permutation(df.index))\n",
    "\n",
    "# train vs. test: we already shuffled data -80/20 split\n",
    "##########################################\n",
    "\n",
    "X_train = df.head(400).review\n",
    "y_train = df.head(400).sentiment\n",
    "\n",
    "X_test = df.tail(100).review\n",
    "y_test = df.tail(100).sentiment\n",
    "\n",
    "print('---------------------')\n",
    "print('---------------------')\n",
    "print('---------------------')\n",
    "print('---------------------')\n",
    "print('X_train shape check: ', X_train.shape)\n",
    "print('X_test shape check: ', X_test.shape)\n",
    "print('---------------------')\n",
    "print('---------------------')\n",
    "print('---------------------')\n",
    "print('---------------------')\n",
    "\n",
    "# GridSearch()\n",
    "###########################################\n",
    "\n",
    "from sklearn.pipeline import Pipeline\n",
    "from sklearn.tree import DecisionTreeClassifier\n",
    "from xgboost import XGBClassifier\n",
    "from sklearn.model_selection import GridSearchCV\n",
    "\n",
    "tfidf = TfidfVectorizer(strip_accents=None,\n",
    "                        lowercase=False,\n",
    "                        preprocessor=None)\n",
    "\n",
    "param_grid = {'vect__ngram_range': [(1, 1)],               # we consider only 1-gram POS (for 2-grams: (1,2))\n",
    "              'clf__n_estimators': [10, 20, 30, 40],\n",
    "              'clf__learning_rate': [0.001, 0.01, 0.1],\n",
    "              'clf__max_depth': [1, 5, 10]\n",
    "              }\n",
    "\n",
    "lr_tfidf = Pipeline([('vect', tfidf),\n",
    "                     ('clf', XGBClassifier())]\n",
    "                    )\n",
    "\n",
    "\n",
    "# on cross-validation parameters\n",
    "cv = StratifiedKFold(n_splits=5, \n",
    "                     shuffle=False\n",
    "                     )\n",
    "\n",
    "\n",
    "gs_lr_tfidf = GridSearchCV(lr_tfidf, param_grid,\n",
    "                           scoring='roc_auc',\n",
    "                           cv=cv, \n",
    "                           n_jobs=-1)              # insert the number of jobs, according to the used machine\n",
    "\n",
    "# running the grid\n",
    "###########################################\n",
    "start=time.time()\n",
    "gs_lr_tfidf.fit(X_train, y_train)\n",
    "end=time.time()\n",
    "print('Running time: %s Seconds'%(end-start))\n",
    "\n",
    "# best estimator - test performance\n",
    "###########################################\n",
    "\n",
    "clf_b = gs_lr_tfidf.best_estimator_\n",
    "y_pred_proba = clf_b.predict_proba(X_test)\n",
    "y_pred = clf_b.predict(X_test)\n",
    "\n",
    "# AUC on test data\n",
    "auc_res=roc_auc_score(y_test, y_pred_proba[:, 1])\n",
    "\n",
    "# Accuracy on test data\n",
    "acc = accuracy_score(y_test, y_pred)\n",
    "\n",
    "# collecting results\n",
    "###########################################\n",
    "\n",
    "print('---------------------')\n",
    "print('---------------------')\n",
    "print('---------------------')\n",
    "print('---------------------')\n",
    "print('Best parameter set: %s ' % gs_lr_tfidf.best_params_)\n",
    "print('---------------------')\n",
    "print('---------------------')\n",
    "print('---------------------')\n",
    "print('---------------------')\n",
    "print('Test AUC: %.3f' % auc_res)\n",
    "print('Test Accuracy: %.3f' % acc)\n",
    "print('---------------------')\n",
    "print('---------------------')\n",
    "print('---------------------')\n",
    "print('---------------------')"
   ]
  },
  {
   "cell_type": "markdown",
   "metadata": {},
   "source": [
    "### 5.3.3. Embeddings<a name=\"XGB_E\"></a>"
   ]
  },
  {
   "cell_type": "code",
   "execution_count": 71,
   "metadata": {},
   "outputs": [
    {
     "name": "stdout",
     "output_type": "stream",
     "text": [
      "---------------------\n",
      "---------------------\n",
      "---------------------\n",
      "---------------------\n",
      "X_train shape check:  (400, 96)\n",
      "X_test shape check:  (100, 96)\n",
      "---------------------\n",
      "---------------------\n",
      "---------------------\n",
      "---------------------\n",
      "[22:59:58] WARNING: /Users/travis/build/dmlc/xgboost/src/learner.cc:1061: Starting in XGBoost 1.3.0, the default evaluation metric used with the objective 'binary:logistic' was changed from 'error' to 'logloss'. Explicitly set eval_metric if you'd like to restore the old behavior.\n",
      "Running time: 26.01372790336609 Seconds\n",
      "---------------------\n",
      "---------------------\n",
      "---------------------\n",
      "---------------------\n",
      "Best parameter set: {'clf__learning_rate': 0.1, 'clf__max_depth': 1, 'clf__n_estimators': 40} \n",
      "---------------------\n",
      "---------------------\n",
      "---------------------\n",
      "---------------------\n",
      "Test AUC: 0.633\n",
      "Test Accuracy: 0.580\n",
      "---------------------\n",
      "---------------------\n",
      "---------------------\n",
      "---------------------\n"
     ]
    },
    {
     "name": "stderr",
     "output_type": "stream",
     "text": [
      "/Users/Guangyuan/opt/anaconda3/envs/r_keras/lib/python3.6/site-packages/xgboost/sklearn.py:888: UserWarning: The use of label encoder in XGBClassifier is deprecated and will be removed in a future release. To remove this warning, do the following: 1) Pass option use_label_encoder=False when constructing XGBClassifier object; and 2) Encode your labels (y) as integers starting with 0, i.e. 0, 1, 2, ..., [num_class - 1].\n",
      "  warnings.warn(label_encoder_deprecation_msg, UserWarning)\n"
     ]
    }
   ],
   "source": [
    "# loading Python packages\n",
    "#########################\n",
    "\n",
    "from sklearn.utils import shuffle\n",
    "\n",
    "from sklearn.model_selection import train_test_split\n",
    "from sklearn.model_selection import StratifiedKFold\n",
    "from sklearn.model_selection import GridSearchCV\n",
    "\n",
    "from sklearn.metrics import roc_curve\n",
    "from sklearn.metrics import auc \n",
    "from sklearn.metrics import roc_auc_score\n",
    "from sklearn.metrics import accuracy_score\n",
    "\n",
    "# data preparation\n",
    "###########################################\n",
    "\n",
    "# data import\n",
    "import pandas as pd\n",
    "\n",
    "path = './toymdb/data_dedandprep.csv'  # insert data with pre-trained word embeddings\n",
    "df = pd.read_csv(path)\n",
    "\n",
    "# shuffling data\n",
    "import numpy as np\n",
    "\n",
    "np.random.seed(0)\n",
    "df = df.reindex(np.random.permutation(df.index))\n",
    "\n",
    "# train vs. test: we already shuffled data -80/20 split - drop the variables\n",
    "############################################################################\n",
    "\n",
    "X_train = df.drop(columns=['review', 'sentiment']).head(400)    # we use only the 300 embeddings\n",
    "y_train = df.head(400).sentiment\n",
    "\n",
    "X_test = df.drop(columns=['review', 'sentiment']).tail(100)     # we use only the 300 embeddings\n",
    "y_test = df.tail(100).sentiment\n",
    "\n",
    "print('---------------------')\n",
    "print('---------------------')\n",
    "print('---------------------')\n",
    "print('---------------------')\n",
    "print('X_train shape check: ', X_train.shape)\n",
    "print('X_test shape check: ', X_test.shape)\n",
    "print('---------------------')\n",
    "print('---------------------')\n",
    "print('---------------------')\n",
    "print('---------------------')\n",
    "\n",
    "# GridSearch()\n",
    "###########################################\n",
    "\n",
    "from sklearn.pipeline import Pipeline\n",
    "from sklearn.tree import DecisionTreeClassifier\n",
    "from xgboost import XGBClassifier\n",
    "from sklearn.model_selection import GridSearchCV\n",
    "\n",
    "param_grid = {\n",
    "              'clf__n_estimators': [10, 20, 30, 40],\n",
    "              'clf__learning_rate': [0.001, 0.01, 0.1],\n",
    "              'clf__max_depth': [1, 5, 10]\n",
    "              }\n",
    "\n",
    "pipe = Pipeline([('clf', XGBClassifier())\n",
    "                ])\n",
    "                    \n",
    "# on cross-validation parameters\n",
    "cv = StratifiedKFold(n_splits=5, \n",
    "                     shuffle=False\n",
    "                     )\n",
    "\n",
    "gs_lr_tfidf = GridSearchCV(pipe, param_grid,\n",
    "                           scoring='roc_auc',\n",
    "                           cv=cv, \n",
    "                           n_jobs=-1)        # insert the number of jobs, according to the used machine\n",
    "\n",
    "# running the grid\n",
    "###########################################\n",
    "start=time.time()\n",
    "gs_lr_tfidf.fit(X_train, y_train)\n",
    "end=time.time()\n",
    "print('Running time: %s Seconds'%(end-start))\n",
    "\n",
    "# best estimator - test performance\n",
    "###########################################\n",
    "\n",
    "clf_b = gs_lr_tfidf.best_estimator_\n",
    "y_pred_proba = clf_b.predict_proba(X_test)\n",
    "y_pred = clf_b.predict(X_test)\n",
    "\n",
    "# AUC on test data\n",
    "auc_res=roc_auc_score(y_test, y_pred_proba[:, 1])\n",
    "\n",
    "# Accuracy on test data\n",
    "acc = accuracy_score(y_test, y_pred)\n",
    "\n",
    "# collecting results\n",
    "###########################################\n",
    "\n",
    "print('---------------------')\n",
    "print('---------------------')\n",
    "print('---------------------')\n",
    "print('---------------------')\n",
    "print('Best parameter set: %s ' % gs_lr_tfidf.best_params_)\n",
    "print('---------------------')\n",
    "print('---------------------')\n",
    "print('---------------------')\n",
    "print('---------------------')\n",
    "print('Test AUC: %.3f' % auc_res)\n",
    "print('Test Accuracy: %.3f' % acc)\n",
    "print('---------------------')\n",
    "print('---------------------')\n",
    "print('---------------------')\n",
    "print('---------------------')"
   ]
  },
  {
   "cell_type": "markdown",
   "metadata": {},
   "source": [
    "# 6. Deep Learning<a name=\"DL\"></a>"
   ]
  },
  {
   "cell_type": "code",
   "execution_count": 42,
   "metadata": {},
   "outputs": [],
   "source": [
    "# to ensure that all keras functionalities work as intended\n",
    "from __future__ import absolute_import, division, print_function, unicode_literals"
   ]
  },
  {
   "cell_type": "code",
   "execution_count": 43,
   "metadata": {},
   "outputs": [
    {
     "data": {
      "text/plain": [
       "(500, 201)"
      ]
     },
     "execution_count": 43,
     "metadata": {},
     "output_type": "execute_result"
    }
   ],
   "source": [
    "# import the data\n",
    "import pandas as pd\n",
    "import os\n",
    "import numpy as np\n",
    "\n",
    "path = \"./toymdb/movie_data_processed.csv\" # TODO: update to your path\n",
    "df_processed = pd.read_csv(path, encoding='utf-8')\n",
    "df_processed.shape"
   ]
  },
  {
   "cell_type": "markdown",
   "metadata": {},
   "source": [
    "## 6.1 Train test split<a name=\"trainsplit\"></a>"
   ]
  },
  {
   "cell_type": "code",
   "execution_count": 44,
   "metadata": {},
   "outputs": [
    {
     "name": "stdout",
     "output_type": "stream",
     "text": [
      "80/20 train test split: 400 / 100\n"
     ]
    }
   ],
   "source": [
    "# get the number of samples for the training and test datasets\n",
    "perc_train = 0.8\n",
    "n_train = round(df_processed.shape[0]*perc_train)\n",
    "n_test = round(df_processed.shape[0]*(1-perc_train))\n",
    "\n",
    "print(str(int(perc_train*100))+'/'+str(int(100-perc_train*100))+' train test split:', \n",
    "      n_train, '/', n_test)"
   ]
  },
  {
   "cell_type": "code",
   "execution_count": 45,
   "metadata": {},
   "outputs": [
    {
     "name": "stdout",
     "output_type": "stream",
     "text": [
      "Training data shape check X, y: (400, 200) (400,)\n",
      "Testing data shape check X, y: (100, 200) (100,)\n"
     ]
    }
   ],
   "source": [
    "# create the training and testing datasets\n",
    "X_train = np.array(df_processed.head(n_train).drop('sentiment', axis=1)) # replace with n_train\n",
    "y_train = df_processed.head(n_train).sentiment.values\n",
    "\n",
    "X_test = np.array(df_processed.tail(n_test).drop('sentiment', axis=1)) # replace with n_test\n",
    "y_test = df_processed.tail(n_test).sentiment.values\n",
    "\n",
    "print('Training data shape check X, y:', X_train.shape, y_train.shape)\n",
    "print('Testing data shape check X, y:', X_test.shape, y_test.shape)"
   ]
  },
  {
   "cell_type": "markdown",
   "metadata": {},
   "source": [
    "## 6.2 Define the model<a name=\"modeldef\"></a>"
   ]
  },
  {
   "cell_type": "code",
   "execution_count": 46,
   "metadata": {},
   "outputs": [
    {
     "name": "stdout",
     "output_type": "stream",
     "text": [
      "Vocabulary size: 399\n"
     ]
    }
   ],
   "source": [
    "import collections\n",
    "import matplotlib.pyplot as plt\n",
    "import tensorflow as tf\n",
    "from tensorflow.keras import layers\n",
    "\n",
    "# get the total number of words in vocabulary (+1 for the padding with 0)\n",
    "vocab_size = df_processed.drop('sentiment', axis=1).values.max() + 1\n",
    "print('Vocabulary size:', vocab_size-1)"
   ]
  },
  {
   "cell_type": "markdown",
   "metadata": {},
   "source": [
    "### 6.2.1 Shallow LSTM architecture<a name=\"LSTM1\"></a>"
   ]
  },
  {
   "cell_type": "code",
   "execution_count": 47,
   "metadata": {},
   "outputs": [],
   "source": [
    "# Create a new model\n",
    "model = tf.keras.Sequential()\n",
    "\n",
    "# Add an Embedding layer expecting input of the size of the vocabulary, and\n",
    "# the embedding output dimension\n",
    "model.add(layers.Embedding(input_dim=vocab_size, output_dim=256)) \n",
    "\n",
    "# Add a LSTM layer with 128 internal units\n",
    "model.add(layers.LSTM(128))\n",
    "\n",
    "# Add a Dropout layer to avoid overfitting\n",
    "model.add(layers.Dropout(0.5))\n",
    "\n",
    "# Add Dense layer as output layer with 1 unit and sigmoid activation\n",
    "model.add(layers.Dense(1, activation='sigmoid'))"
   ]
  },
  {
   "cell_type": "code",
   "execution_count": 48,
   "metadata": {},
   "outputs": [],
   "source": [
    "# Create a new model\n",
    "model = tf.keras.Sequential()\n",
    "\n",
    "# Add an Embedding layer expecting input of the size of the vocabulary, and\n",
    "# the embedding output dimension\n",
    "model.add(layers.Embedding(input_dim=vocab_size, output_dim=256)) \n",
    "\n",
    "# Add a GRU layer with 128 internal units\n",
    "model.add(layers.GRU(128))\n",
    "\n",
    "# Add a Dropout layer to avoid overfitting\n",
    "model.add(layers.Dropout(0.5))\n",
    "\n",
    "# Add Dense layer as output layer with 1 unit and sigmoid activation\n",
    "model.add(layers.Dense(1, activation='sigmoid'))"
   ]
  },
  {
   "cell_type": "markdown",
   "metadata": {},
   "source": [
    "### 6.2.3 Deep LSTM architecture<a name=\"LSTM2\"></a>"
   ]
  },
  {
   "cell_type": "code",
   "execution_count": 49,
   "metadata": {},
   "outputs": [],
   "source": [
    "# Create a new model\n",
    "model = tf.keras.Sequential()\n",
    "\n",
    "# Add an Embedding layer expecting input of the size of the vocabulary, and\n",
    "# the embedding output dimension\n",
    "model.add(layers.Embedding(input_dim=vocab_size, output_dim=256)) \n",
    "\n",
    "# Add a LSTM layer with 128 internal units\n",
    "# Return sequences so we can stack the the next LSTM layer on top\n",
    "model.add(layers.LSTM(128, return_sequences=True))\n",
    "\n",
    "# Add a second LSTM layer\n",
    "model.add(layers.LSTM(128))\n",
    "\n",
    "# Add a Dropout layer to avoid overfitting\n",
    "model.add(layers.Dropout(0.5))\n",
    "\n",
    "# Add Dense layer as output layer with 1 unit and sigmoid activation\n",
    "model.add(layers.Dense(1, activation='sigmoid'))"
   ]
  },
  {
   "cell_type": "markdown",
   "metadata": {},
   "source": [
    "## 6.3 Train the model<a name=\"trainmodel\"></a>"
   ]
  },
  {
   "cell_type": "code",
   "execution_count": 80,
   "metadata": {},
   "outputs": [
    {
     "name": "stdout",
     "output_type": "stream",
     "text": [
      "Model: \"sequential_2\"\n",
      "_________________________________________________________________\n",
      "Layer (type)                 Output Shape              Param #   \n",
      "=================================================================\n",
      "embedding_2 (Embedding)      (None, None, 256)         102400    \n",
      "_________________________________________________________________\n",
      "lstm_1 (LSTM)                (None, None, 128)         197120    \n",
      "_________________________________________________________________\n",
      "lstm_2 (LSTM)                (None, 128)               131584    \n",
      "_________________________________________________________________\n",
      "dropout_2 (Dropout)          (None, 128)               0         \n",
      "_________________________________________________________________\n",
      "dense_2 (Dense)              (None, 1)                 129       \n",
      "=================================================================\n",
      "Total params: 431,233\n",
      "Trainable params: 431,233\n",
      "Non-trainable params: 0\n",
      "_________________________________________________________________\n",
      "None\n"
     ]
    }
   ],
   "source": [
    "# print the summary of the model we have defined\n",
    "print(model.summary())"
   ]
  },
  {
   "cell_type": "code",
   "execution_count": 50,
   "metadata": {},
   "outputs": [],
   "source": [
    "# compile the model\n",
    "# we select here the optimizer, loss and metric to be used in training\n",
    "model.compile(optimizer=tf.keras.optimizers.Adam(0.001),\n",
    "              loss='binary_crossentropy',\n",
    "              metrics=['accuracy'])"
   ]
  },
  {
   "cell_type": "code",
   "execution_count": 51,
   "metadata": {},
   "outputs": [],
   "source": [
    "# define callbacks for early stopping during training\n",
    "# stop training when the validation loss `val_accuracy` is no longer improving\n",
    "callbacks = [tf.keras.callbacks.EarlyStopping(\n",
    "    monitor='val_accuracy',\n",
    "    min_delta=1e-3,\n",
    "    patience=5,\n",
    "    verbose=1,\n",
    "    restore_best_weights=True)]"
   ]
  },
  {
   "cell_type": "code",
   "execution_count": 52,
   "metadata": {},
   "outputs": [
    {
     "name": "stdout",
     "output_type": "stream",
     "text": [
      "Epoch 1/30\n",
      "2/2 [==============================] - 3s 1s/step - loss: 0.6935 - accuracy: 0.4781 - val_loss: 0.6934 - val_accuracy: 0.4750\n",
      "Epoch 2/30\n",
      "2/2 [==============================] - 1s 713ms/step - loss: 0.6910 - accuracy: 0.5813 - val_loss: 0.6934 - val_accuracy: 0.4750\n",
      "Epoch 3/30\n",
      "2/2 [==============================] - 1s 629ms/step - loss: 0.6876 - accuracy: 0.6781 - val_loss: 0.6911 - val_accuracy: 0.5375\n",
      "Epoch 4/30\n",
      "2/2 [==============================] - 1s 626ms/step - loss: 0.6812 - accuracy: 0.7031 - val_loss: 0.6880 - val_accuracy: 0.5375\n",
      "Epoch 5/30\n",
      "2/2 [==============================] - 1s 607ms/step - loss: 0.6641 - accuracy: 0.7312 - val_loss: 0.6833 - val_accuracy: 0.5000\n",
      "Epoch 6/30\n",
      "2/2 [==============================] - 1s 703ms/step - loss: 0.6201 - accuracy: 0.7625 - val_loss: 0.6849 - val_accuracy: 0.6000\n",
      "Epoch 7/30\n",
      "2/2 [==============================] - 1s 613ms/step - loss: 0.5537 - accuracy: 0.7063 - val_loss: 0.6682 - val_accuracy: 0.6250\n",
      "Epoch 8/30\n",
      "2/2 [==============================] - 1s 627ms/step - loss: 0.4856 - accuracy: 0.7969 - val_loss: 0.6317 - val_accuracy: 0.5625\n",
      "Epoch 9/30\n",
      "2/2 [==============================] - 1s 603ms/step - loss: 0.4715 - accuracy: 0.8156 - val_loss: 0.6163 - val_accuracy: 0.5875\n",
      "Epoch 10/30\n",
      "2/2 [==============================] - 1s 592ms/step - loss: 0.4220 - accuracy: 0.8344 - val_loss: 0.6154 - val_accuracy: 0.6125\n",
      "Epoch 11/30\n",
      "2/2 [==============================] - 1s 610ms/step - loss: 0.3517 - accuracy: 0.8531 - val_loss: 0.6814 - val_accuracy: 0.6625\n",
      "Epoch 12/30\n",
      "2/2 [==============================] - 1s 625ms/step - loss: 0.2927 - accuracy: 0.8656 - val_loss: 0.8308 - val_accuracy: 0.6500\n",
      "Epoch 13/30\n",
      "2/2 [==============================] - 1s 608ms/step - loss: 0.3230 - accuracy: 0.8687 - val_loss: 0.7549 - val_accuracy: 0.6375\n",
      "Epoch 14/30\n",
      "2/2 [==============================] - 1s 656ms/step - loss: 0.2583 - accuracy: 0.9000 - val_loss: 0.7303 - val_accuracy: 0.6625\n",
      "Epoch 15/30\n",
      "2/2 [==============================] - 1s 667ms/step - loss: 0.2261 - accuracy: 0.9031 - val_loss: 0.7018 - val_accuracy: 0.6500\n",
      "Epoch 16/30\n",
      "2/2 [==============================] - ETA: 0s - loss: 0.2059 - accuracy: 0.9156Restoring model weights from the end of the best epoch.\n",
      "2/2 [==============================] - 1s 676ms/step - loss: 0.2059 - accuracy: 0.9156 - val_loss: 0.7673 - val_accuracy: 0.6500\n",
      "Epoch 00016: early stopping\n",
      "Running time: 72.55708694458008 Seconds\n"
     ]
    }
   ],
   "source": [
    "# train the model\n",
    "start=time.time()\n",
    "\n",
    "history = model.fit(X_train, \n",
    "                    y_train, \n",
    "                    validation_split=0.2,\n",
    "                    epochs=30, \n",
    "                    batch_size=256,\n",
    "                    callbacks=callbacks,\n",
    "                    verbose=1)\n",
    "\n",
    "end=time.time()\n",
    "print('Running time: %s Seconds'%(end-start))"
   ]
  },
  {
   "cell_type": "code",
   "execution_count": 84,
   "metadata": {},
   "outputs": [
    {
     "data": {
      "text/plain": [
       "<matplotlib.legend.Legend at 0x7fac30c67d68>"
      ]
     },
     "execution_count": 84,
     "metadata": {},
     "output_type": "execute_result"
    },
    {
     "data": {
      "image/png": "[encoded data removed]",
      "text/plain": [
       "<Figure size 432x288 with 1 Axes>"
      ]
     },
     "metadata": {
      "needs_background": "light"
     },
     "output_type": "display_data"
    }
   ],
   "source": [
    "# plot the development of the accuracy over epochs to see the training progress\n",
    "plt.plot(history.history['accuracy'], label='Training accuracy')\n",
    "plt.plot(history.history['val_accuracy'], label='Validation accuracy')\n",
    "plt.title('Training and validation accuracy')\n",
    "plt.xlabel('Epochs')\n",
    "plt.ylabel('Accuracy')\n",
    "plt.legend()"
   ]
  },
  {
   "cell_type": "code",
   "execution_count": 85,
   "metadata": {},
   "outputs": [
    {
     "data": {
      "text/plain": [
       "<matplotlib.legend.Legend at 0x7fac418bcf60>"
      ]
     },
     "execution_count": 85,
     "metadata": {},
     "output_type": "execute_result"
    },
    {
     "data": {
      "image/png": "[encoded data removed]",
      "text/plain": [
       "<Figure size 432x288 with 1 Axes>"
      ]
     },
     "metadata": {
      "needs_background": "light"
     },
     "output_type": "display_data"
    }
   ],
   "source": [
    "# plot the development of the loss over epochs to see the training progress\n",
    "plt.plot(history.history['loss'], label='Training loss')\n",
    "plt.plot(history.history['val_loss'], label='Validation loss')\n",
    "plt.title('Training and validation loss')\n",
    "plt.xlabel('Epochs')\n",
    "plt.ylabel('Loss')\n",
    "plt.legend()"
   ]
  },
  {
   "cell_type": "markdown",
   "metadata": {},
   "source": [
    "## 6.4 Evaluate the model on test data<a name=\"evalmodel\"></a>"
   ]
  },
  {
   "cell_type": "code",
   "execution_count": 86,
   "metadata": {},
   "outputs": [
    {
     "name": "stdout",
     "output_type": "stream",
     "text": [
      "WARNING:tensorflow:From <ipython-input-86-d652e8b291a3>:7: Sequential.predict_proba (from tensorflow.python.keras.engine.sequential) is deprecated and will be removed after 2021-01-01.\n",
      "Instructions for updating:\n",
      "Please use `model.predict()` instead.\n",
      "Test loss: 1.066556453704834\n",
      "Test accuracy: 0.6800000071525574\n",
      "Test AUC: 0.6903044871794872\n"
     ]
    }
   ],
   "source": [
    "from sklearn.metrics import roc_auc_score\n",
    "\n",
    "# evalute model to get accuracy and loss on test data\n",
    "results = model.evaluate(X_test, y_test, batch_size=256, verbose=0)\n",
    "\n",
    "# calculate AUC on test data\n",
    "y_pred = model.predict_proba(X_test, batch_size=256)\n",
    "auc_res = roc_auc_score(y_test, y_pred[:, 0])\n",
    "\n",
    "print('Test loss:', results[0])\n",
    "print('Test accuracy:', results[1])\n",
    "print('Test AUC:', auc_res)"
   ]
  },
  {
   "cell_type": "code",
   "execution_count": null,
   "metadata": {},
   "outputs": [],
   "source": []
  }
 ],
 "metadata": {
  "kernelspec": {
   "display_name": "Python 3",
   "language": "python",
   "name": "python3"
  },
  "language_info": {
   "codemirror_mode": {
    "name": "ipython",
    "version": 3
   },
   "file_extension": ".py",
   "mimetype": "text/x-python",
   "name": "python",
   "nbconvert_exporter": "python",
   "pygments_lexer": "ipython3",
   "version": "3.6.12"
  }
 },
 "nbformat": 4,
 "nbformat_minor": 2
}
